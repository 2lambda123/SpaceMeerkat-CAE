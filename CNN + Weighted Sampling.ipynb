{
 "cells": [
  {
   "cell_type": "code",
   "execution_count": 1,
   "metadata": {},
   "outputs": [],
   "source": [
    "import os\n",
    "os.environ[\"CUDA_VISIBLE_DEVICES\"] = \"0\"\n",
    "import torch\n",
    "from tqdm import tqdm\n",
    "from torch.utils.data import DataLoader\n",
    "from torch.utils.data.sampler import WeightedRandomSampler\n",
    "import numpy as np\n",
    "from sklearn.metrics import accuracy_score\n",
    "from torchvision import transforms\n",
    "from astropy.io import fits \n",
    "from skimage.transform import resize\n",
    "import time\n",
    "\n",
    "import matplotlib\n",
    "%matplotlib inline\n",
    "#matplotlib.use('Agg')\n",
    "from matplotlib import pyplot as plt\n",
    "\n",
    "from weighting import weighting\n",
    "\n",
    "torch.cuda.benchmark=True"
   ]
  },
  {
   "cell_type": "code",
   "execution_count": 2,
   "metadata": {},
   "outputs": [],
   "source": [
    "class CategoricalNet(torch.nn.Module):\n",
    "    \n",
    "    def __init__(self):\n",
    "        super().__init__()\n",
    "        self.feature_extractor = torch.nn.Sequential(\n",
    "            \n",
    "            torch.nn.Conv2d(1,64,5,padding=2), # 1 input, 32 out, filter size = 5x5, 2 block outer padding\n",
    "            torch.nn.ReLU(),\n",
    "            torch.nn.Conv2d(64,128,5,padding=2),\n",
    "            torch.nn.ReLU(),\n",
    "            torch.nn.BatchNorm2d(128),\n",
    "            torch.nn.MaxPool2d(2),\n",
    "            torch.nn.Conv2d(128,256,5,padding=2),\n",
    "            torch.nn.ReLU(),\n",
    "            torch.nn.BatchNorm2d(256),\n",
    "            torch.nn.MaxPool2d(2))\n",
    " \n",
    "        self.classifier = torch.nn.Sequential(\n",
    "\t\t    torch.nn.Dropout(0.25),\n",
    "            torch.nn.Linear(256*16*16,256), # Fully connected layer \n",
    "            torch.nn.ReLU(),\n",
    "            torch.nn.Dropout(0.25),\n",
    "            torch.nn.Linear(256,10))\n",
    "        \n",
    "    def forward(self,x):\n",
    "        features = self.feature_extractor(x)\n",
    "        output = self.classifier(features.view(int(x.size()[0]),-1))\n",
    "        output= torch.nn.functional.log_softmax(output,dim=1)\n",
    "        return output"
   ]
  },
  {
   "cell_type": "code",
   "execution_count": 3,
   "metadata": {},
   "outputs": [],
   "source": [
    "class RegressionNet(torch.nn.Module):\n",
    "\n",
    "    def __init__(self):\n",
    "        super().__init__()\n",
    "        self.feature_extractor = torch.nn.Sequential(\n",
    "            torch.nn.Conv2d(1, 64, 5, padding=2),\n",
    "            torch.nn.ReLU(),\n",
    "            torch.nn.Conv2d(64, 128, 5, padding=2),\n",
    "            torch.nn.ReLU(),\n",
    "            torch.nn.BatchNorm2d(128),\n",
    "            torch.nn.MaxPool2d(2),\n",
    "            torch.nn.Conv2d(128, 256, 5, padding=2),\n",
    "            torch.nn.ReLU(),\n",
    "            torch.nn.Conv2d(256, 512, 3, padding=1),\n",
    "            torch.nn.ReLU(),\n",
    "            torch.nn.BatchNorm2d(512),\n",
    "            torch.nn.MaxPool2d(2),\n",
    "            torch.nn.Conv2d(512, 512, 3, padding=1),\n",
    "            torch.nn.ReLU(),\n",
    "            torch.nn.Conv2d(512, 512, 3, padding=1),\n",
    "            torch.nn.ReLU(),\n",
    "            torch.nn.BatchNorm2d(512),\n",
    "            torch.nn.MaxPool2d(2),\n",
    "            torch.nn.Conv2d(512, 256, 3, padding=1),\n",
    "            torch.nn.ReLU(),\n",
    "            torch.nn.Conv2d(256, 256, 3, padding=1),\n",
    "            torch.nn.ReLU(),\n",
    "            torch.nn.BatchNorm2d(256),\n",
    "            torch.nn.MaxPool2d(2),\n",
    "            torch.nn.Conv2d(256, 128, 3, padding=1),\n",
    "            torch.nn.ReLU(),\n",
    "            torch.nn.Conv2d(128, 128, 3, padding=1),\n",
    "            torch.nn.ReLU(),\n",
    "            torch.nn.BatchNorm2d(128),\n",
    "            torch.nn.MaxPool2d(2))\n",
    "        self.classifier = torch.nn.Sequential(\n",
    "            torch.nn.Dropout(0.25),\n",
    "            torch.nn.Linear(128 * 2 * 2, 256),\n",
    "            torch.nn.ReLU(),\n",
    "            torch.nn.Dropout(0.25),\n",
    "            torch.nn.Linear(256, 10))\n",
    "\n",
    "    def forward(self, x):\n",
    "        features = self.feature_extractor(x)\n",
    "        output = self.classifier(features.view(int(x.size()[0]), -1))\n",
    "        # output= F.log_softmax(output,dim=1) # Give results using softmax\n",
    "        return output"
   ]
  },
  {
   "cell_type": "code",
   "execution_count": 4,
   "metadata": {},
   "outputs": [],
   "source": [
    "def weight_init(m):\n",
    "    if isinstance(m, torch.nn.Conv2d) or isinstance(m, torch.nn.Linear):\n",
    "        torch.nn.init.xavier_uniform_(m.weight.data)\n",
    "        m.bias.data.zero_()"
   ]
  },
  {
   "cell_type": "code",
   "execution_count": 5,
   "metadata": {},
   "outputs": [],
   "source": [
    "import torch.utils.data as data\n",
    "\n",
    "IMG_EXTENSIONS = [\n",
    "    \".fits\"\n",
    "]\n",
    "\n",
    "def is_image_file(filename):\n",
    "    return any(filename.endswith(extension) for extension in IMG_EXTENSIONS)\n",
    "\n",
    "\n",
    "def make_dataset(dir):\n",
    "    images = []\n",
    "    assert os.path.isdir(dir), '%s is not a valid directory' % dir\n",
    "    for root, _, fnames in sorted(os.walk(dir)):\n",
    "        for fname in fnames:\n",
    "            if is_image_file(fname):\n",
    "                path = os.path.join(root, fname)\n",
    "                images.append(path)\n",
    "    return images\n",
    "\n",
    "\n",
    "def default_fits_loader(file_name: str, img_size: tuple, slice_index):\n",
    "    file = fits.open(file_name)\n",
    "    _data = file[1].data\n",
    "    _data = resize(_data[slice_index], img_size)\n",
    "    _label = file[0].header['LABEL']\n",
    "\n",
    "    if len(_data.shape) < 3:\n",
    "        _data = _data.reshape((*_data.shape, 1))\n",
    "    \n",
    "    return _data, _label\n",
    "\n",
    "\n",
    "class FITSCubeDataset(data.Dataset):\n",
    "    def __init__(self, data_path, cube_length, transforms, img_size):\n",
    "        self.data_path = data_path\n",
    "        self.transforms = transforms\n",
    "        self.img_size = img_size\n",
    "        self.cube_length = cube_length\n",
    "        self.img_files = make_dataset(data_path)\n",
    "\n",
    "    def __getitem__(self, index):\n",
    "        cube_index = index // self.cube_length\n",
    "        slice_index = index % self.cube_length\n",
    "        _img, _label = default_fits_loader(self.img_files[cube_index], self.img_size, slice_index)\n",
    "        _img[_img != _img] = 0\n",
    "        if self.transforms is not None:\n",
    "            _data = (self.transforms(_img), _label)\n",
    "        else:\n",
    "            _data = (_img, _label)\n",
    "            \n",
    "        return _data\n",
    "\n",
    "    def __len__(self):\n",
    "        return len(self.img_files)*self.cube_length"
   ]
  },
  {
   "cell_type": "code",
   "execution_count": 6,
   "metadata": {},
   "outputs": [],
   "source": [
    "IMG_PATH = \"E:/Documents/Python_Scripts/CNN/TRAINING/\"\n",
    "\n",
    "def plot_accuracy(accuracies, val_acc, epochs, filename):\n",
    "    fig = plt.figure()\n",
    "    ax = fig.gca()\n",
    "    ax.set_xlim(0, max(epochs))\n",
    "    ax.set_ylim(0, 100)\n",
    "    plt.plot(epochs, accuracies,'b',label='Training Accuracy',zorder=1)\n",
    "    plt.plot(epochs, val_acc,'purple',label='Validation Accuracy',zorder=0)\n",
    "    plt.ylabel('Accuracy')\n",
    "    plt.xlabel('Training Epoch')\n",
    "    plt.legend(loc='best',fontsize='small')\n",
    "    fig.savefig(IMG_PATH+filename, bbox_inches='tight')\n",
    "    plt.close()"
   ]
  },
  {
   "cell_type": "code",
   "execution_count": 7,
   "metadata": {},
   "outputs": [],
   "source": [
    "def adjust_learning_rate(optimizer, epoch, initial_lr, num_epochs):\n",
    "    decay = initial_lr / num_epochs\n",
    "    lr = initial_lr - decay*epoch\n",
    "    print(\"Set LR to %f\" % lr)\n",
    "    for param_group in optimizer.param_groups:\n",
    "        param_group['lr'] = lr"
   ]
  },
  {
   "cell_type": "code",
   "execution_count": 8,
   "metadata": {},
   "outputs": [],
   "source": [
    "def train(model: torch.nn.Module, \n",
    "          transforms, \n",
    "          data_path=\"E:/Documents/Python_Scripts/CNN/TRAINING/EXAMPLES/\", \n",
    "          val_path=\"E:/Documents/Python_Scripts/CNN/TRAINING/EXAMPLES/\",  \n",
    "          num_epochs=50, \n",
    "          batch_size=32, \n",
    "          verbose=True,\n",
    "          cube_length=640, img_size=(64, 64), \n",
    "          loss=torch.nn.CrossEntropyLoss(), \n",
    "          lr_schedule=True, initial_lr=1e-3, suffix=\"\"):\n",
    "\n",
    "    data_path = os.path.abspath(data_path)\n",
    "    val_path = os.path.abspath(val_path)\n",
    "\t\n",
    "    model = model.train()\n",
    "    device = torch.device(\"cuda\")\n",
    "    model = model.to(device).to(torch.float)\n",
    "    start = time.time()\n",
    "    \n",
    "    print('Creating sampling weight array')\n",
    "    train_loader = DataLoader(FITSCubeDataset(data_path, cube_length, transforms, img_size), batch_size=batch_size, shuffle=False)\n",
    "    dataiter = iter(train_loader)\n",
    "    dummy_labels = []\n",
    "    for idx, (batch, target) in enumerate(tqdm(train_loader)):\n",
    "        dummy_labels.append(np.array(target.numpy()))\n",
    "    dummy_labels = np.hstack(dummy_labels)\n",
    "    print(len(dummy_labels))\n",
    "    weights = weighting(dummy_labels)\n",
    "    sampler = WeightedRandomSampler(weights, len(weights))\n",
    "    end = time.time()\n",
    "    print('Weights Created in %.2gs'%(end-start))\n",
    "    #batch size was 10*640?\n",
    "    start = time.time()\n",
    "    val_loader = DataLoader(FITSCubeDataset(val_path, cube_length, transforms, img_size), batch_size=batch_size, shuffle=False)\n",
    "    dataiter = iter(val_loader)\n",
    "    dummy_val_labels = []\n",
    "    for idx, (batch, target) in enumerate(tqdm(val_loader)):\n",
    "        dummy_val_labels.append(np.array(target.numpy()))\n",
    "    dummy_val_labels = np.hstack(dummy_val_labels)\n",
    "    print(len(dummy_val_labels))\n",
    "    val_weights = weighting(dummy_val_labels)\n",
    "    val_sampler = WeightedRandomSampler(val_weights, len(val_weights))\n",
    "    end = time.time()\n",
    "    print('Validation weights Created in %.2gs'%(end-start))\n",
    "    \n",
    "    loader = DataLoader(FITSCubeDataset(data_path, cube_length, transforms, img_size), batch_size, shuffle=False, sampler=sampler)\n",
    "    validation_loader = DataLoader(FITSCubeDataset(data_path, cube_length, transforms, img_size), batch_size, shuffle=False, sampler=val_sampler)    \n",
    "    optim = torch.optim.Adam(model.parameters(), initial_lr)\n",
    "\t\n",
    "    accuracies, val_accuracies, epochs = [0], [0], [0]\n",
    "\t\n",
    "    for i in range(num_epochs):\n",
    "        print(\"Epoch %d of %d\" % (i+1, num_epochs))\n",
    "        _accuracies = []\n",
    "        _val_accuracies = []\n",
    "        model.train(True)\n",
    "        for idx, (batch, target) in enumerate(tqdm(loader)):\n",
    "            batch = batch.to(device).to(torch.float)\n",
    "            if isinstance(loss, torch.nn.CrossEntropyLoss):\n",
    "                target = target.to(device).to(torch.long)\n",
    "            else:\n",
    "                target = target.to(device).to(torch.float)\n",
    "            pred = model(batch)\n",
    "\n",
    "            loss_value = loss(pred, target)\n",
    "\n",
    "            optim.zero_grad()\n",
    "            loss_value.backward()\n",
    "            optim.step()\n",
    "\n",
    "            pred_npy = pred.detach().cpu().numpy()\n",
    "            target_npy = target.detach().cpu().numpy()\n",
    "\n",
    "            if isinstance(loss, torch.nn.CrossEntropyLoss):\n",
    "                pred_npy = np.argmax(pred_npy, axis=1) \n",
    "                \n",
    "            ###Change the error metric here###\n",
    "\n",
    "            pred_int = np.round(pred_npy).astype(np.uint8).reshape(-1)\n",
    "            target_npy = target_npy.astype(np.uint8).reshape(-1)\n",
    "\n",
    "            _accuracies.append(accuracy_score(target_npy, pred_int)*100)\n",
    "            \n",
    "        epochs.append(i+1)\n",
    "\n",
    "        mean_accuracy = sum(_accuracies)/len(_accuracies)\n",
    "        accuracies.append(mean_accuracy)\n",
    "\n",
    "        print(\"Mean accuracy: %f\" % mean_accuracy)\n",
    "        \n",
    "        model.train(False)\n",
    "\n",
    "        for idx, (batch, target) in enumerate(tqdm(validation_loader)):\n",
    "            batch = batch.to(device).to(torch.float)\n",
    "            if isinstance(loss, torch.nn.CrossEntropyLoss):\n",
    "                target = target.to(device).to(torch.long)\n",
    "            else:\n",
    "                target = target.to(device).to(torch.float)\n",
    "            pred = model(batch)\n",
    "\n",
    "            loss_value = loss(pred, target)\n",
    "\n",
    "            pred_npy = pred.detach().cpu().numpy()\n",
    "            target_npy = target.detach().cpu().numpy()\n",
    "\n",
    "            if isinstance(loss, torch.nn.CrossEntropyLoss):\n",
    "                pred_npy = np.argmax(pred_npy, axis=1) \n",
    "                \n",
    "            ###Change the error metric here###\n",
    "\n",
    "            pred_int = np.round(pred_npy).astype(np.uint8).reshape(-1)\n",
    "            target_npy = target_npy.astype(np.uint8).reshape(-1)\n",
    "\n",
    "            _val_accuracies.append(accuracy_score(target_npy, pred_int)*100)\n",
    "\n",
    "        mean_accuracy = sum(_val_accuracies)/len(_val_accuracies)\n",
    "        val_accuracies.append(mean_accuracy)\n",
    "        if lr_schedule:\n",
    "            plot_accuracy(accuracies,val_accuracies, epochs, \"Validation_accuracy_scheduler%s.png\" % suffix)\n",
    "        else:\n",
    "            plot_accuracy(accuracies,val_accuracies, epochs, \"Validation_accuracy_no_scheduler%s.png\" % suffix)\n",
    "        print(\"Mean Validation accuracy: %f\" % mean_accuracy)\n",
    "    \n",
    "        \n",
    "        \n",
    "        model.eval()\n"
   ]
  },
  {
   "cell_type": "code",
   "execution_count": 9,
   "metadata": {},
   "outputs": [
    {
     "name": "stdout",
     "output_type": "stream",
     "text": [
      "Creating Model and Initializing weights\n",
      "Creating sampling weight array\n"
     ]
    },
    {
     "name": "stderr",
     "output_type": "stream",
     "text": [
      "  0%|                                                                                          | 0/100 [00:00<?, ?it/s]C:\\Users\\SpaceMeerkat\\Anaconda3\\lib\\site-packages\\skimage\\transform\\_warps.py:84: UserWarning: The default mode, 'constant', will be changed to 'reflect' in skimage 0.15.\n",
      "  warn(\"The default mode, 'constant', will be changed to 'reflect' in \"\n",
      "C:\\Users\\SpaceMeerkat\\Anaconda3\\lib\\site-packages\\numpy\\core\\_methods.py:29: RuntimeWarning: invalid value encountered in reduce\n",
      "  return umr_minimum(a, axis, None, out, keepdims)\n",
      "C:\\Users\\SpaceMeerkat\\Anaconda3\\lib\\site-packages\\numpy\\core\\_methods.py:26: RuntimeWarning: invalid value encountered in reduce\n",
      "  return umr_maximum(a, axis, None, out, keepdims)\n",
      "100%|████████████████████████████████████████████████████████████████████████████████| 100/100 [00:23<00:00,  4.26it/s]\n"
     ]
    },
    {
     "name": "stdout",
     "output_type": "stream",
     "text": [
      "6400\n",
      "Weights Created in 24s\n"
     ]
    },
    {
     "name": "stderr",
     "output_type": "stream",
     "text": [
      "100%|████████████████████████████████████████████████████████████████████████████████| 100/100 [00:20<00:00,  4.95it/s]\n"
     ]
    },
    {
     "name": "stdout",
     "output_type": "stream",
     "text": [
      "6400\n",
      "Validation weights Created in 20s\n",
      "Epoch 1 of 80\n"
     ]
    },
    {
     "name": "stderr",
     "output_type": "stream",
     "text": [
      "100%|████████████████████████████████████████████████████████████████████████████████| 100/100 [00:39<00:00,  2.56it/s]\n"
     ]
    },
    {
     "name": "stdout",
     "output_type": "stream",
     "text": [
      "Mean accuracy: 28.562500\n"
     ]
    },
    {
     "name": "stderr",
     "output_type": "stream",
     "text": [
      "100%|████████████████████████████████████████████████████████████████████████████████| 100/100 [00:24<00:00,  4.08it/s]\n"
     ]
    },
    {
     "name": "stdout",
     "output_type": "stream",
     "text": [
      "Mean Validation accuracy: 43.187500\n",
      "Epoch 2 of 80\n"
     ]
    },
    {
     "name": "stderr",
     "output_type": "stream",
     "text": [
      "100%|████████████████████████████████████████████████████████████████████████████████| 100/100 [00:38<00:00,  2.59it/s]\n"
     ]
    },
    {
     "name": "stdout",
     "output_type": "stream",
     "text": [
      "Mean accuracy: 42.875000\n"
     ]
    },
    {
     "name": "stderr",
     "output_type": "stream",
     "text": [
      "100%|████████████████████████████████████████████████████████████████████████████████| 100/100 [00:25<00:00,  3.97it/s]\n"
     ]
    },
    {
     "name": "stdout",
     "output_type": "stream",
     "text": [
      "Mean Validation accuracy: 61.906250\n",
      "Epoch 3 of 80\n"
     ]
    },
    {
     "name": "stderr",
     "output_type": "stream",
     "text": [
      "100%|████████████████████████████████████████████████████████████████████████████████| 100/100 [00:39<00:00,  2.50it/s]\n"
     ]
    },
    {
     "name": "stdout",
     "output_type": "stream",
     "text": [
      "Mean accuracy: 51.421875\n"
     ]
    },
    {
     "name": "stderr",
     "output_type": "stream",
     "text": [
      "100%|████████████████████████████████████████████████████████████████████████████████| 100/100 [00:25<00:00,  3.98it/s]\n"
     ]
    },
    {
     "name": "stdout",
     "output_type": "stream",
     "text": [
      "Mean Validation accuracy: 70.781250\n",
      "Epoch 4 of 80\n"
     ]
    },
    {
     "name": "stderr",
     "output_type": "stream",
     "text": [
      "100%|████████████████████████████████████████████████████████████████████████████████| 100/100 [00:37<00:00,  2.64it/s]\n"
     ]
    },
    {
     "name": "stdout",
     "output_type": "stream",
     "text": [
      "Mean accuracy: 62.234375\n"
     ]
    },
    {
     "name": "stderr",
     "output_type": "stream",
     "text": [
      "100%|████████████████████████████████████████████████████████████████████████████████| 100/100 [00:24<00:00,  4.10it/s]\n"
     ]
    },
    {
     "name": "stdout",
     "output_type": "stream",
     "text": [
      "Mean Validation accuracy: 67.796875\n",
      "Epoch 5 of 80\n"
     ]
    },
    {
     "name": "stderr",
     "output_type": "stream",
     "text": [
      "100%|████████████████████████████████████████████████████████████████████████████████| 100/100 [00:38<00:00,  2.60it/s]\n"
     ]
    },
    {
     "name": "stdout",
     "output_type": "stream",
     "text": [
      "Mean accuracy: 67.140625\n"
     ]
    },
    {
     "name": "stderr",
     "output_type": "stream",
     "text": [
      "100%|████████████████████████████████████████████████████████████████████████████████| 100/100 [00:25<00:00,  3.96it/s]\n"
     ]
    },
    {
     "name": "stdout",
     "output_type": "stream",
     "text": [
      "Mean Validation accuracy: 79.546875\n",
      "Epoch 6 of 80\n"
     ]
    },
    {
     "name": "stderr",
     "output_type": "stream",
     "text": [
      "100%|████████████████████████████████████████████████████████████████████████████████| 100/100 [00:39<00:00,  2.54it/s]\n"
     ]
    },
    {
     "name": "stdout",
     "output_type": "stream",
     "text": [
      "Mean accuracy: 72.093750\n"
     ]
    },
    {
     "name": "stderr",
     "output_type": "stream",
     "text": [
      "100%|████████████████████████████████████████████████████████████████████████████████| 100/100 [00:24<00:00,  4.10it/s]\n"
     ]
    },
    {
     "name": "stdout",
     "output_type": "stream",
     "text": [
      "Mean Validation accuracy: 83.078125\n",
      "Epoch 7 of 80\n"
     ]
    },
    {
     "name": "stderr",
     "output_type": "stream",
     "text": [
      "100%|████████████████████████████████████████████████████████████████████████████████| 100/100 [00:38<00:00,  2.62it/s]\n"
     ]
    },
    {
     "name": "stdout",
     "output_type": "stream",
     "text": [
      "Mean accuracy: 77.031250\n"
     ]
    },
    {
     "name": "stderr",
     "output_type": "stream",
     "text": [
      "100%|████████████████████████████████████████████████████████████████████████████████| 100/100 [00:24<00:00,  4.12it/s]\n"
     ]
    },
    {
     "name": "stdout",
     "output_type": "stream",
     "text": [
      "Mean Validation accuracy: 89.765625\n",
      "Epoch 8 of 80\n"
     ]
    },
    {
     "name": "stderr",
     "output_type": "stream",
     "text": [
      "100%|████████████████████████████████████████████████████████████████████████████████| 100/100 [00:38<00:00,  2.58it/s]\n"
     ]
    },
    {
     "name": "stdout",
     "output_type": "stream",
     "text": [
      "Mean accuracy: 77.421875\n"
     ]
    },
    {
     "name": "stderr",
     "output_type": "stream",
     "text": [
      "100%|████████████████████████████████████████████████████████████████████████████████| 100/100 [00:25<00:00,  3.98it/s]\n"
     ]
    },
    {
     "name": "stdout",
     "output_type": "stream",
     "text": [
      "Mean Validation accuracy: 84.750000\n",
      "Epoch 9 of 80\n"
     ]
    },
    {
     "name": "stderr",
     "output_type": "stream",
     "text": [
      "100%|████████████████████████████████████████████████████████████████████████████████| 100/100 [00:38<00:00,  2.59it/s]\n"
     ]
    },
    {
     "name": "stdout",
     "output_type": "stream",
     "text": [
      "Mean accuracy: 80.765625\n"
     ]
    },
    {
     "name": "stderr",
     "output_type": "stream",
     "text": [
      "100%|████████████████████████████████████████████████████████████████████████████████| 100/100 [00:24<00:00,  4.11it/s]\n"
     ]
    },
    {
     "name": "stdout",
     "output_type": "stream",
     "text": [
      "Mean Validation accuracy: 92.265625\n",
      "Epoch 10 of 80\n"
     ]
    },
    {
     "name": "stderr",
     "output_type": "stream",
     "text": [
      "100%|████████████████████████████████████████████████████████████████████████████████| 100/100 [00:38<00:00,  2.62it/s]\n"
     ]
    },
    {
     "name": "stdout",
     "output_type": "stream",
     "text": [
      "Mean accuracy: 83.718750\n"
     ]
    },
    {
     "name": "stderr",
     "output_type": "stream",
     "text": [
      "100%|████████████████████████████████████████████████████████████████████████████████| 100/100 [00:24<00:00,  4.13it/s]\n"
     ]
    },
    {
     "name": "stdout",
     "output_type": "stream",
     "text": [
      "Mean Validation accuracy: 95.281250\n",
      "Epoch 11 of 80\n"
     ]
    },
    {
     "name": "stderr",
     "output_type": "stream",
     "text": [
      "100%|████████████████████████████████████████████████████████████████████████████████| 100/100 [00:38<00:00,  2.60it/s]\n"
     ]
    },
    {
     "name": "stdout",
     "output_type": "stream",
     "text": [
      "Mean accuracy: 84.625000\n"
     ]
    },
    {
     "name": "stderr",
     "output_type": "stream",
     "text": [
      "100%|████████████████████████████████████████████████████████████████████████████████| 100/100 [00:24<00:00,  4.08it/s]\n"
     ]
    },
    {
     "name": "stdout",
     "output_type": "stream",
     "text": [
      "Mean Validation accuracy: 94.953125\n",
      "Epoch 12 of 80\n"
     ]
    },
    {
     "name": "stderr",
     "output_type": "stream",
     "text": [
      "100%|████████████████████████████████████████████████████████████████████████████████| 100/100 [00:38<00:00,  2.63it/s]\n"
     ]
    },
    {
     "name": "stdout",
     "output_type": "stream",
     "text": [
      "Mean accuracy: 86.781250\n"
     ]
    },
    {
     "name": "stderr",
     "output_type": "stream",
     "text": [
      "100%|████████████████████████████████████████████████████████████████████████████████| 100/100 [00:24<00:00,  4.14it/s]\n"
     ]
    },
    {
     "name": "stdout",
     "output_type": "stream",
     "text": [
      "Mean Validation accuracy: 96.125000\n",
      "Epoch 13 of 80\n"
     ]
    },
    {
     "name": "stderr",
     "output_type": "stream",
     "text": [
      "100%|████████████████████████████████████████████████████████████████████████████████| 100/100 [00:38<00:00,  2.62it/s]\n"
     ]
    },
    {
     "name": "stdout",
     "output_type": "stream",
     "text": [
      "Mean accuracy: 88.281250\n"
     ]
    },
    {
     "name": "stderr",
     "output_type": "stream",
     "text": [
      "100%|████████████████████████████████████████████████████████████████████████████████| 100/100 [00:24<00:00,  4.00it/s]\n"
     ]
    },
    {
     "name": "stdout",
     "output_type": "stream",
     "text": [
      "Mean Validation accuracy: 95.687500\n",
      "Epoch 14 of 80\n"
     ]
    },
    {
     "name": "stderr",
     "output_type": "stream",
     "text": [
      "100%|████████████████████████████████████████████████████████████████████████████████| 100/100 [00:39<00:00,  2.56it/s]\n"
     ]
    },
    {
     "name": "stdout",
     "output_type": "stream",
     "text": [
      "Mean accuracy: 87.843750\n"
     ]
    },
    {
     "name": "stderr",
     "output_type": "stream",
     "text": [
      "100%|████████████████████████████████████████████████████████████████████████████████| 100/100 [00:24<00:00,  4.03it/s]\n"
     ]
    },
    {
     "name": "stdout",
     "output_type": "stream",
     "text": [
      "Mean Validation accuracy: 93.140625\n",
      "Epoch 15 of 80\n"
     ]
    },
    {
     "name": "stderr",
     "output_type": "stream",
     "text": [
      "100%|████████████████████████████████████████████████████████████████████████████████| 100/100 [00:39<00:00,  2.51it/s]\n"
     ]
    },
    {
     "name": "stdout",
     "output_type": "stream",
     "text": [
      "Mean accuracy: 89.687500\n"
     ]
    },
    {
     "name": "stderr",
     "output_type": "stream",
     "text": [
      "100%|████████████████████████████████████████████████████████████████████████████████| 100/100 [00:25<00:00,  3.90it/s]\n"
     ]
    },
    {
     "name": "stdout",
     "output_type": "stream",
     "text": [
      "Mean Validation accuracy: 95.859375\n",
      "Epoch 16 of 80\n"
     ]
    },
    {
     "name": "stderr",
     "output_type": "stream",
     "text": [
      "100%|████████████████████████████████████████████████████████████████████████████████| 100/100 [00:38<00:00,  2.60it/s]\n"
     ]
    },
    {
     "name": "stdout",
     "output_type": "stream",
     "text": [
      "Mean accuracy: 90.812500\n"
     ]
    },
    {
     "name": "stderr",
     "output_type": "stream",
     "text": [
      "100%|████████████████████████████████████████████████████████████████████████████████| 100/100 [00:24<00:00,  4.12it/s]\n"
     ]
    },
    {
     "name": "stdout",
     "output_type": "stream",
     "text": [
      "Mean Validation accuracy: 97.718750\n",
      "Epoch 17 of 80\n"
     ]
    },
    {
     "name": "stderr",
     "output_type": "stream",
     "text": [
      "100%|████████████████████████████████████████████████████████████████████████████████| 100/100 [00:38<00:00,  2.62it/s]\n"
     ]
    },
    {
     "name": "stdout",
     "output_type": "stream",
     "text": [
      "Mean accuracy: 91.046875\n"
     ]
    },
    {
     "name": "stderr",
     "output_type": "stream",
     "text": [
      "100%|████████████████████████████████████████████████████████████████████████████████| 100/100 [00:24<00:00,  4.13it/s]\n"
     ]
    },
    {
     "name": "stdout",
     "output_type": "stream",
     "text": [
      "Mean Validation accuracy: 97.937500\n",
      "Epoch 18 of 80\n"
     ]
    },
    {
     "name": "stderr",
     "output_type": "stream",
     "text": [
      "100%|████████████████████████████████████████████████████████████████████████████████| 100/100 [00:38<00:00,  2.62it/s]\n"
     ]
    },
    {
     "name": "stdout",
     "output_type": "stream",
     "text": [
      "Mean accuracy: 91.281250\n"
     ]
    },
    {
     "name": "stderr",
     "output_type": "stream",
     "text": [
      "100%|████████████████████████████████████████████████████████████████████████████████| 100/100 [00:24<00:00,  4.13it/s]\n"
     ]
    },
    {
     "name": "stdout",
     "output_type": "stream",
     "text": [
      "Mean Validation accuracy: 97.734375\n",
      "Epoch 19 of 80\n"
     ]
    },
    {
     "name": "stderr",
     "output_type": "stream",
     "text": [
      "100%|████████████████████████████████████████████████████████████████████████████████| 100/100 [00:38<00:00,  2.62it/s]\n"
     ]
    },
    {
     "name": "stdout",
     "output_type": "stream",
     "text": [
      "Mean accuracy: 91.953125\n"
     ]
    },
    {
     "name": "stderr",
     "output_type": "stream",
     "text": [
      "100%|████████████████████████████████████████████████████████████████████████████████| 100/100 [00:24<00:00,  4.12it/s]\n"
     ]
    },
    {
     "name": "stdout",
     "output_type": "stream",
     "text": [
      "Mean Validation accuracy: 97.406250\n",
      "Epoch 20 of 80\n"
     ]
    },
    {
     "name": "stderr",
     "output_type": "stream",
     "text": [
      "100%|████████████████████████████████████████████████████████████████████████████████| 100/100 [00:37<00:00,  2.63it/s]\n"
     ]
    },
    {
     "name": "stdout",
     "output_type": "stream",
     "text": [
      "Mean accuracy: 92.203125\n"
     ]
    },
    {
     "name": "stderr",
     "output_type": "stream",
     "text": [
      "100%|████████████████████████████████████████████████████████████████████████████████| 100/100 [00:24<00:00,  4.13it/s]\n"
     ]
    },
    {
     "name": "stdout",
     "output_type": "stream",
     "text": [
      "Mean Validation accuracy: 98.734375\n",
      "Epoch 21 of 80\n"
     ]
    },
    {
     "name": "stderr",
     "output_type": "stream",
     "text": [
      "100%|████████████████████████████████████████████████████████████████████████████████| 100/100 [00:38<00:00,  2.62it/s]\n"
     ]
    },
    {
     "name": "stdout",
     "output_type": "stream",
     "text": [
      "Mean accuracy: 92.703125\n"
     ]
    },
    {
     "name": "stderr",
     "output_type": "stream",
     "text": [
      "100%|████████████████████████████████████████████████████████████████████████████████| 100/100 [00:24<00:00,  4.14it/s]\n"
     ]
    },
    {
     "name": "stdout",
     "output_type": "stream",
     "text": [
      "Mean Validation accuracy: 98.046875\n",
      "Epoch 22 of 80\n"
     ]
    },
    {
     "name": "stderr",
     "output_type": "stream",
     "text": [
      "100%|████████████████████████████████████████████████████████████████████████████████| 100/100 [00:38<00:00,  2.63it/s]\n"
     ]
    },
    {
     "name": "stdout",
     "output_type": "stream",
     "text": [
      "Mean accuracy: 93.093750\n"
     ]
    },
    {
     "name": "stderr",
     "output_type": "stream",
     "text": [
      "100%|████████████████████████████████████████████████████████████████████████████████| 100/100 [00:24<00:00,  4.14it/s]\n"
     ]
    },
    {
     "name": "stdout",
     "output_type": "stream",
     "text": [
      "Mean Validation accuracy: 97.828125\n",
      "Epoch 23 of 80\n"
     ]
    },
    {
     "name": "stderr",
     "output_type": "stream",
     "text": [
      "100%|████████████████████████████████████████████████████████████████████████████████| 100/100 [00:38<00:00,  2.62it/s]\n"
     ]
    },
    {
     "name": "stdout",
     "output_type": "stream",
     "text": [
      "Mean accuracy: 92.937500\n"
     ]
    },
    {
     "name": "stderr",
     "output_type": "stream",
     "text": [
      "100%|████████████████████████████████████████████████████████████████████████████████| 100/100 [00:24<00:00,  4.12it/s]\n"
     ]
    },
    {
     "name": "stdout",
     "output_type": "stream",
     "text": [
      "Mean Validation accuracy: 96.515625\n",
      "Epoch 24 of 80\n"
     ]
    },
    {
     "name": "stderr",
     "output_type": "stream",
     "text": [
      "100%|████████████████████████████████████████████████████████████████████████████████| 100/100 [00:38<00:00,  2.62it/s]\n"
     ]
    },
    {
     "name": "stdout",
     "output_type": "stream",
     "text": [
      "Mean accuracy: 93.031250\n"
     ]
    },
    {
     "name": "stderr",
     "output_type": "stream",
     "text": [
      "100%|████████████████████████████████████████████████████████████████████████████████| 100/100 [00:24<00:00,  4.14it/s]\n"
     ]
    },
    {
     "name": "stdout",
     "output_type": "stream",
     "text": [
      "Mean Validation accuracy: 97.968750\n",
      "Epoch 25 of 80\n"
     ]
    },
    {
     "name": "stderr",
     "output_type": "stream",
     "text": [
      "100%|████████████████████████████████████████████████████████████████████████████████| 100/100 [00:38<00:00,  2.62it/s]\n"
     ]
    },
    {
     "name": "stdout",
     "output_type": "stream",
     "text": [
      "Mean accuracy: 94.375000\n"
     ]
    },
    {
     "name": "stderr",
     "output_type": "stream",
     "text": [
      "100%|████████████████████████████████████████████████████████████████████████████████| 100/100 [00:24<00:00,  4.11it/s]\n"
     ]
    },
    {
     "name": "stdout",
     "output_type": "stream",
     "text": [
      "Mean Validation accuracy: 98.109375\n",
      "Epoch 26 of 80\n"
     ]
    },
    {
     "name": "stderr",
     "output_type": "stream",
     "text": [
      "100%|████████████████████████████████████████████████████████████████████████████████| 100/100 [00:38<00:00,  2.59it/s]\n"
     ]
    },
    {
     "name": "stdout",
     "output_type": "stream",
     "text": [
      "Mean accuracy: 94.062500\n"
     ]
    },
    {
     "name": "stderr",
     "output_type": "stream",
     "text": [
      "100%|████████████████████████████████████████████████████████████████████████████████| 100/100 [00:24<00:00,  4.12it/s]\n"
     ]
    },
    {
     "name": "stdout",
     "output_type": "stream",
     "text": [
      "Mean Validation accuracy: 98.375000\n",
      "Epoch 27 of 80\n"
     ]
    },
    {
     "name": "stderr",
     "output_type": "stream",
     "text": [
      "100%|████████████████████████████████████████████████████████████████████████████████| 100/100 [00:38<00:00,  2.62it/s]\n"
     ]
    },
    {
     "name": "stdout",
     "output_type": "stream",
     "text": [
      "Mean accuracy: 94.578125\n"
     ]
    },
    {
     "name": "stderr",
     "output_type": "stream",
     "text": [
      "100%|████████████████████████████████████████████████████████████████████████████████| 100/100 [00:26<00:00,  3.76it/s]\n"
     ]
    },
    {
     "name": "stdout",
     "output_type": "stream",
     "text": [
      "Mean Validation accuracy: 98.281250\n",
      "Epoch 28 of 80\n"
     ]
    },
    {
     "name": "stderr",
     "output_type": "stream",
     "text": [
      "100%|████████████████████████████████████████████████████████████████████████████████| 100/100 [00:37<00:00,  2.67it/s]\n"
     ]
    },
    {
     "name": "stdout",
     "output_type": "stream",
     "text": [
      "Mean accuracy: 92.734375\n"
     ]
    },
    {
     "name": "stderr",
     "output_type": "stream",
     "text": [
      "100%|████████████████████████████████████████████████████████████████████████████████| 100/100 [00:24<00:00,  4.06it/s]\n"
     ]
    },
    {
     "name": "stdout",
     "output_type": "stream",
     "text": [
      "Mean Validation accuracy: 95.687500\n",
      "Epoch 29 of 80\n"
     ]
    },
    {
     "name": "stderr",
     "output_type": "stream",
     "text": [
      "100%|████████████████████████████████████████████████████████████████████████████████| 100/100 [00:36<00:00,  2.71it/s]\n"
     ]
    },
    {
     "name": "stdout",
     "output_type": "stream",
     "text": [
      "Mean accuracy: 93.468750\n"
     ]
    },
    {
     "name": "stderr",
     "output_type": "stream",
     "text": [
      "100%|████████████████████████████████████████████████████████████████████████████████| 100/100 [00:24<00:00,  4.05it/s]\n"
     ]
    },
    {
     "name": "stdout",
     "output_type": "stream",
     "text": [
      "Mean Validation accuracy: 98.140625\n",
      "Epoch 30 of 80\n"
     ]
    },
    {
     "name": "stderr",
     "output_type": "stream",
     "text": [
      "100%|████████████████████████████████████████████████████████████████████████████████| 100/100 [00:37<00:00,  2.70it/s]\n"
     ]
    },
    {
     "name": "stdout",
     "output_type": "stream",
     "text": [
      "Mean accuracy: 94.812500\n"
     ]
    },
    {
     "name": "stderr",
     "output_type": "stream",
     "text": [
      "100%|████████████████████████████████████████████████████████████████████████████████| 100/100 [00:25<00:00,  3.97it/s]\n"
     ]
    },
    {
     "name": "stdout",
     "output_type": "stream",
     "text": [
      "Mean Validation accuracy: 98.203125\n",
      "Epoch 31 of 80\n"
     ]
    },
    {
     "name": "stderr",
     "output_type": "stream",
     "text": [
      "100%|████████████████████████████████████████████████████████████████████████████████| 100/100 [00:37<00:00,  2.69it/s]\n"
     ]
    },
    {
     "name": "stdout",
     "output_type": "stream",
     "text": [
      "Mean accuracy: 95.218750\n"
     ]
    },
    {
     "name": "stderr",
     "output_type": "stream",
     "text": [
      "100%|████████████████████████████████████████████████████████████████████████████████| 100/100 [00:24<00:00,  4.07it/s]\n"
     ]
    },
    {
     "name": "stdout",
     "output_type": "stream",
     "text": [
      "Mean Validation accuracy: 98.890625\n",
      "Epoch 32 of 80\n"
     ]
    },
    {
     "name": "stderr",
     "output_type": "stream",
     "text": [
      "100%|████████████████████████████████████████████████████████████████████████████████| 100/100 [00:37<00:00,  2.64it/s]\n"
     ]
    },
    {
     "name": "stdout",
     "output_type": "stream",
     "text": [
      "Mean accuracy: 95.687500\n"
     ]
    },
    {
     "name": "stderr",
     "output_type": "stream",
     "text": [
      "100%|████████████████████████████████████████████████████████████████████████████████| 100/100 [00:25<00:00,  3.93it/s]\n"
     ]
    },
    {
     "name": "stdout",
     "output_type": "stream",
     "text": [
      "Mean Validation accuracy: 99.046875\n",
      "Epoch 33 of 80\n"
     ]
    },
    {
     "name": "stderr",
     "output_type": "stream",
     "text": [
      "100%|████████████████████████████████████████████████████████████████████████████████| 100/100 [00:36<00:00,  2.71it/s]\n"
     ]
    },
    {
     "name": "stdout",
     "output_type": "stream",
     "text": [
      "Mean accuracy: 95.953125\n"
     ]
    },
    {
     "name": "stderr",
     "output_type": "stream",
     "text": [
      "100%|████████████████████████████████████████████████████████████████████████████████| 100/100 [00:26<00:00,  3.73it/s]\n"
     ]
    },
    {
     "name": "stdout",
     "output_type": "stream",
     "text": [
      "Mean Validation accuracy: 99.046875\n",
      "Epoch 34 of 80\n"
     ]
    },
    {
     "name": "stderr",
     "output_type": "stream",
     "text": [
      "100%|████████████████████████████████████████████████████████████████████████████████| 100/100 [00:39<00:00,  2.54it/s]\n"
     ]
    },
    {
     "name": "stdout",
     "output_type": "stream",
     "text": [
      "Mean accuracy: 96.281250\n"
     ]
    },
    {
     "name": "stderr",
     "output_type": "stream",
     "text": [
      "100%|████████████████████████████████████████████████████████████████████████████████| 100/100 [00:25<00:00,  3.94it/s]\n"
     ]
    },
    {
     "name": "stdout",
     "output_type": "stream",
     "text": [
      "Mean Validation accuracy: 99.171875\n",
      "Epoch 35 of 80\n"
     ]
    },
    {
     "name": "stderr",
     "output_type": "stream",
     "text": [
      "100%|████████████████████████████████████████████████████████████████████████████████| 100/100 [00:38<00:00,  2.63it/s]\n"
     ]
    },
    {
     "name": "stdout",
     "output_type": "stream",
     "text": [
      "Mean accuracy: 95.531250\n"
     ]
    },
    {
     "name": "stderr",
     "output_type": "stream",
     "text": [
      "100%|████████████████████████████████████████████████████████████████████████████████| 100/100 [00:25<00:00,  3.93it/s]\n"
     ]
    },
    {
     "name": "stdout",
     "output_type": "stream",
     "text": [
      "Mean Validation accuracy: 99.156250\n",
      "Epoch 36 of 80\n"
     ]
    },
    {
     "name": "stderr",
     "output_type": "stream",
     "text": [
      "100%|████████████████████████████████████████████████████████████████████████████████| 100/100 [00:38<00:00,  2.63it/s]\n"
     ]
    },
    {
     "name": "stdout",
     "output_type": "stream",
     "text": [
      "Mean accuracy: 95.078125\n"
     ]
    },
    {
     "name": "stderr",
     "output_type": "stream",
     "text": [
      "100%|████████████████████████████████████████████████████████████████████████████████| 100/100 [00:26<00:00,  3.81it/s]\n"
     ]
    },
    {
     "name": "stdout",
     "output_type": "stream",
     "text": [
      "Mean Validation accuracy: 98.875000\n",
      "Epoch 37 of 80\n"
     ]
    },
    {
     "name": "stderr",
     "output_type": "stream",
     "text": [
      "100%|████████████████████████████████████████████████████████████████████████████████| 100/100 [00:37<00:00,  2.69it/s]\n"
     ]
    },
    {
     "name": "stdout",
     "output_type": "stream",
     "text": [
      "Mean accuracy: 95.765625\n"
     ]
    },
    {
     "name": "stderr",
     "output_type": "stream",
     "text": [
      "100%|████████████████████████████████████████████████████████████████████████████████| 100/100 [00:26<00:00,  3.78it/s]\n"
     ]
    },
    {
     "name": "stdout",
     "output_type": "stream",
     "text": [
      "Mean Validation accuracy: 99.546875\n",
      "Epoch 38 of 80\n"
     ]
    },
    {
     "name": "stderr",
     "output_type": "stream",
     "text": [
      "100%|████████████████████████████████████████████████████████████████████████████████| 100/100 [00:37<00:00,  2.65it/s]\n"
     ]
    },
    {
     "name": "stdout",
     "output_type": "stream",
     "text": [
      "Mean accuracy: 96.109375\n"
     ]
    },
    {
     "name": "stderr",
     "output_type": "stream",
     "text": [
      "100%|████████████████████████████████████████████████████████████████████████████████| 100/100 [00:24<00:00,  4.00it/s]\n"
     ]
    },
    {
     "name": "stdout",
     "output_type": "stream",
     "text": [
      "Mean Validation accuracy: 98.468750\n",
      "Epoch 39 of 80\n"
     ]
    },
    {
     "name": "stderr",
     "output_type": "stream",
     "text": [
      "100%|████████████████████████████████████████████████████████████████████████████████| 100/100 [00:38<00:00,  2.61it/s]\n"
     ]
    },
    {
     "name": "stdout",
     "output_type": "stream",
     "text": [
      "Mean accuracy: 96.343750\n"
     ]
    },
    {
     "name": "stderr",
     "output_type": "stream",
     "text": [
      "100%|████████████████████████████████████████████████████████████████████████████████| 100/100 [00:24<00:00,  4.05it/s]\n"
     ]
    },
    {
     "name": "stdout",
     "output_type": "stream",
     "text": [
      "Mean Validation accuracy: 99.328125\n",
      "Epoch 40 of 80\n"
     ]
    },
    {
     "name": "stderr",
     "output_type": "stream",
     "text": [
      "100%|████████████████████████████████████████████████████████████████████████████████| 100/100 [00:38<00:00,  2.61it/s]\n"
     ]
    },
    {
     "name": "stdout",
     "output_type": "stream",
     "text": [
      "Mean accuracy: 96.640625\n"
     ]
    },
    {
     "name": "stderr",
     "output_type": "stream",
     "text": [
      "100%|████████████████████████████████████████████████████████████████████████████████| 100/100 [00:24<00:00,  4.14it/s]\n"
     ]
    },
    {
     "name": "stdout",
     "output_type": "stream",
     "text": [
      "Mean Validation accuracy: 99.093750\n",
      "Epoch 41 of 80\n"
     ]
    },
    {
     "name": "stderr",
     "output_type": "stream",
     "text": [
      "100%|████████████████████████████████████████████████████████████████████████████████| 100/100 [00:38<00:00,  2.62it/s]\n"
     ]
    },
    {
     "name": "stdout",
     "output_type": "stream",
     "text": [
      "Mean accuracy: 96.906250\n"
     ]
    },
    {
     "name": "stderr",
     "output_type": "stream",
     "text": [
      "100%|████████████████████████████████████████████████████████████████████████████████| 100/100 [00:24<00:00,  4.10it/s]\n"
     ]
    },
    {
     "name": "stdout",
     "output_type": "stream",
     "text": [
      "Mean Validation accuracy: 98.609375\n",
      "Epoch 42 of 80\n"
     ]
    },
    {
     "name": "stderr",
     "output_type": "stream",
     "text": [
      "100%|████████████████████████████████████████████████████████████████████████████████| 100/100 [00:38<00:00,  2.63it/s]\n"
     ]
    },
    {
     "name": "stdout",
     "output_type": "stream",
     "text": [
      "Mean accuracy: 96.375000\n"
     ]
    },
    {
     "name": "stderr",
     "output_type": "stream",
     "text": [
      "100%|████████████████████████████████████████████████████████████████████████████████| 100/100 [00:24<00:00,  4.15it/s]\n"
     ]
    },
    {
     "name": "stdout",
     "output_type": "stream",
     "text": [
      "Mean Validation accuracy: 99.546875\n",
      "Epoch 43 of 80\n"
     ]
    },
    {
     "name": "stderr",
     "output_type": "stream",
     "text": [
      "100%|████████████████████████████████████████████████████████████████████████████████| 100/100 [00:38<00:00,  2.63it/s]\n"
     ]
    },
    {
     "name": "stdout",
     "output_type": "stream",
     "text": [
      "Mean accuracy: 97.234375\n"
     ]
    },
    {
     "name": "stderr",
     "output_type": "stream",
     "text": [
      "100%|████████████████████████████████████████████████████████████████████████████████| 100/100 [00:24<00:00,  4.14it/s]\n"
     ]
    },
    {
     "name": "stdout",
     "output_type": "stream",
     "text": [
      "Mean Validation accuracy: 99.187500\n",
      "Epoch 44 of 80\n"
     ]
    },
    {
     "name": "stderr",
     "output_type": "stream",
     "text": [
      "100%|████████████████████████████████████████████████████████████████████████████████| 100/100 [00:38<00:00,  2.61it/s]\n"
     ]
    },
    {
     "name": "stdout",
     "output_type": "stream",
     "text": [
      "Mean accuracy: 95.859375\n"
     ]
    },
    {
     "name": "stderr",
     "output_type": "stream",
     "text": [
      "100%|████████████████████████████████████████████████████████████████████████████████| 100/100 [00:24<00:00,  4.13it/s]\n"
     ]
    },
    {
     "name": "stdout",
     "output_type": "stream",
     "text": [
      "Mean Validation accuracy: 99.375000\n",
      "Epoch 45 of 80\n"
     ]
    },
    {
     "name": "stderr",
     "output_type": "stream",
     "text": [
      "100%|████████████████████████████████████████████████████████████████████████████████| 100/100 [00:38<00:00,  2.62it/s]\n"
     ]
    },
    {
     "name": "stdout",
     "output_type": "stream",
     "text": [
      "Mean accuracy: 96.500000\n"
     ]
    },
    {
     "name": "stderr",
     "output_type": "stream",
     "text": [
      "100%|████████████████████████████████████████████████████████████████████████████████| 100/100 [00:24<00:00,  4.12it/s]\n"
     ]
    },
    {
     "name": "stdout",
     "output_type": "stream",
     "text": [
      "Mean Validation accuracy: 99.578125\n",
      "Epoch 46 of 80\n"
     ]
    },
    {
     "name": "stderr",
     "output_type": "stream",
     "text": [
      "100%|████████████████████████████████████████████████████████████████████████████████| 100/100 [00:38<00:00,  2.61it/s]\n"
     ]
    },
    {
     "name": "stdout",
     "output_type": "stream",
     "text": [
      "Mean accuracy: 97.265625\n"
     ]
    },
    {
     "name": "stderr",
     "output_type": "stream",
     "text": [
      "100%|████████████████████████████████████████████████████████████████████████████████| 100/100 [00:24<00:00,  4.09it/s]\n"
     ]
    },
    {
     "name": "stdout",
     "output_type": "stream",
     "text": [
      "Mean Validation accuracy: 99.812500\n",
      "Epoch 47 of 80\n"
     ]
    },
    {
     "name": "stderr",
     "output_type": "stream",
     "text": [
      "100%|████████████████████████████████████████████████████████████████████████████████| 100/100 [00:38<00:00,  2.62it/s]\n"
     ]
    },
    {
     "name": "stdout",
     "output_type": "stream",
     "text": [
      "Mean accuracy: 96.875000\n"
     ]
    },
    {
     "name": "stderr",
     "output_type": "stream",
     "text": [
      "100%|████████████████████████████████████████████████████████████████████████████████| 100/100 [00:24<00:00,  4.14it/s]\n"
     ]
    },
    {
     "name": "stdout",
     "output_type": "stream",
     "text": [
      "Mean Validation accuracy: 99.593750\n",
      "Epoch 48 of 80\n"
     ]
    },
    {
     "name": "stderr",
     "output_type": "stream",
     "text": [
      "100%|████████████████████████████████████████████████████████████████████████████████| 100/100 [00:38<00:00,  2.61it/s]\n"
     ]
    },
    {
     "name": "stdout",
     "output_type": "stream",
     "text": [
      "Mean accuracy: 96.796875\n"
     ]
    },
    {
     "name": "stderr",
     "output_type": "stream",
     "text": [
      "100%|████████████████████████████████████████████████████████████████████████████████| 100/100 [00:24<00:00,  4.10it/s]\n"
     ]
    },
    {
     "name": "stdout",
     "output_type": "stream",
     "text": [
      "Mean Validation accuracy: 99.250000\n",
      "Epoch 49 of 80\n"
     ]
    },
    {
     "name": "stderr",
     "output_type": "stream",
     "text": [
      "100%|████████████████████████████████████████████████████████████████████████████████| 100/100 [00:38<00:00,  2.62it/s]\n"
     ]
    },
    {
     "name": "stdout",
     "output_type": "stream",
     "text": [
      "Mean accuracy: 97.921875\n"
     ]
    },
    {
     "name": "stderr",
     "output_type": "stream",
     "text": [
      "100%|████████████████████████████████████████████████████████████████████████████████| 100/100 [00:24<00:00,  4.14it/s]\n"
     ]
    },
    {
     "name": "stdout",
     "output_type": "stream",
     "text": [
      "Mean Validation accuracy: 99.656250\n",
      "Epoch 50 of 80\n"
     ]
    },
    {
     "name": "stderr",
     "output_type": "stream",
     "text": [
      "100%|████████████████████████████████████████████████████████████████████████████████| 100/100 [00:39<00:00,  2.54it/s]\n"
     ]
    },
    {
     "name": "stdout",
     "output_type": "stream",
     "text": [
      "Mean accuracy: 97.718750\n"
     ]
    },
    {
     "name": "stderr",
     "output_type": "stream",
     "text": [
      "100%|████████████████████████████████████████████████████████████████████████████████| 100/100 [00:24<00:00,  4.13it/s]\n"
     ]
    },
    {
     "name": "stdout",
     "output_type": "stream",
     "text": [
      "Mean Validation accuracy: 99.593750\n",
      "Epoch 51 of 80\n"
     ]
    },
    {
     "name": "stderr",
     "output_type": "stream",
     "text": [
      "100%|████████████████████████████████████████████████████████████████████████████████| 100/100 [00:38<00:00,  2.63it/s]\n"
     ]
    },
    {
     "name": "stdout",
     "output_type": "stream",
     "text": [
      "Mean accuracy: 96.703125\n"
     ]
    },
    {
     "name": "stderr",
     "output_type": "stream",
     "text": [
      "100%|████████████████████████████████████████████████████████████████████████████████| 100/100 [00:24<00:00,  4.14it/s]\n"
     ]
    },
    {
     "name": "stdout",
     "output_type": "stream",
     "text": [
      "Mean Validation accuracy: 99.718750\n",
      "Epoch 52 of 80\n"
     ]
    },
    {
     "name": "stderr",
     "output_type": "stream",
     "text": [
      "100%|████████████████████████████████████████████████████████████████████████████████| 100/100 [00:38<00:00,  2.62it/s]\n"
     ]
    },
    {
     "name": "stdout",
     "output_type": "stream",
     "text": [
      "Mean accuracy: 97.500000\n"
     ]
    },
    {
     "name": "stderr",
     "output_type": "stream",
     "text": [
      "100%|████████████████████████████████████████████████████████████████████████████████| 100/100 [00:24<00:00,  4.14it/s]\n"
     ]
    },
    {
     "name": "stdout",
     "output_type": "stream",
     "text": [
      "Mean Validation accuracy: 99.562500\n",
      "Epoch 53 of 80\n"
     ]
    },
    {
     "name": "stderr",
     "output_type": "stream",
     "text": [
      "100%|████████████████████████████████████████████████████████████████████████████████| 100/100 [00:38<00:00,  2.63it/s]\n"
     ]
    },
    {
     "name": "stdout",
     "output_type": "stream",
     "text": [
      "Mean accuracy: 97.484375\n"
     ]
    },
    {
     "name": "stderr",
     "output_type": "stream",
     "text": [
      "100%|████████████████████████████████████████████████████████████████████████████████| 100/100 [00:24<00:00,  4.14it/s]\n"
     ]
    },
    {
     "name": "stdout",
     "output_type": "stream",
     "text": [
      "Mean Validation accuracy: 99.734375\n",
      "Epoch 54 of 80\n"
     ]
    },
    {
     "name": "stderr",
     "output_type": "stream",
     "text": [
      "100%|████████████████████████████████████████████████████████████████████████████████| 100/100 [00:38<00:00,  2.63it/s]\n"
     ]
    },
    {
     "name": "stdout",
     "output_type": "stream",
     "text": [
      "Mean accuracy: 97.796875\n"
     ]
    },
    {
     "name": "stderr",
     "output_type": "stream",
     "text": [
      "100%|████████████████████████████████████████████████████████████████████████████████| 100/100 [00:24<00:00,  4.14it/s]\n"
     ]
    },
    {
     "name": "stdout",
     "output_type": "stream",
     "text": [
      "Mean Validation accuracy: 99.859375\n",
      "Epoch 55 of 80\n"
     ]
    },
    {
     "name": "stderr",
     "output_type": "stream",
     "text": [
      "100%|████████████████████████████████████████████████████████████████████████████████| 100/100 [00:38<00:00,  2.62it/s]\n"
     ]
    },
    {
     "name": "stdout",
     "output_type": "stream",
     "text": [
      "Mean accuracy: 98.234375\n"
     ]
    },
    {
     "name": "stderr",
     "output_type": "stream",
     "text": [
      "100%|████████████████████████████████████████████████████████████████████████████████| 100/100 [00:24<00:00,  4.13it/s]\n"
     ]
    },
    {
     "name": "stdout",
     "output_type": "stream",
     "text": [
      "Mean Validation accuracy: 99.750000\n",
      "Epoch 56 of 80\n"
     ]
    },
    {
     "name": "stderr",
     "output_type": "stream",
     "text": [
      "100%|████████████████████████████████████████████████████████████████████████████████| 100/100 [00:38<00:00,  2.63it/s]\n"
     ]
    },
    {
     "name": "stdout",
     "output_type": "stream",
     "text": [
      "Mean accuracy: 98.203125\n"
     ]
    },
    {
     "name": "stderr",
     "output_type": "stream",
     "text": [
      "100%|████████████████████████████████████████████████████████████████████████████████| 100/100 [00:24<00:00,  4.15it/s]\n"
     ]
    },
    {
     "name": "stdout",
     "output_type": "stream",
     "text": [
      "Mean Validation accuracy: 99.734375\n",
      "Epoch 57 of 80\n"
     ]
    },
    {
     "name": "stderr",
     "output_type": "stream",
     "text": [
      "100%|████████████████████████████████████████████████████████████████████████████████| 100/100 [00:38<00:00,  2.59it/s]\n"
     ]
    },
    {
     "name": "stdout",
     "output_type": "stream",
     "text": [
      "Mean accuracy: 97.687500\n"
     ]
    },
    {
     "name": "stderr",
     "output_type": "stream",
     "text": [
      "100%|████████████████████████████████████████████████████████████████████████████████| 100/100 [00:24<00:00,  4.11it/s]\n"
     ]
    },
    {
     "name": "stdout",
     "output_type": "stream",
     "text": [
      "Mean Validation accuracy: 99.375000\n",
      "Epoch 58 of 80\n"
     ]
    },
    {
     "name": "stderr",
     "output_type": "stream",
     "text": [
      "100%|████████████████████████████████████████████████████████████████████████████████| 100/100 [00:38<00:00,  2.62it/s]\n"
     ]
    },
    {
     "name": "stdout",
     "output_type": "stream",
     "text": [
      "Mean accuracy: 98.000000\n"
     ]
    },
    {
     "name": "stderr",
     "output_type": "stream",
     "text": [
      "100%|████████████████████████████████████████████████████████████████████████████████| 100/100 [00:24<00:00,  4.12it/s]\n"
     ]
    },
    {
     "name": "stdout",
     "output_type": "stream",
     "text": [
      "Mean Validation accuracy: 98.343750\n",
      "Epoch 59 of 80\n"
     ]
    },
    {
     "name": "stderr",
     "output_type": "stream",
     "text": [
      "100%|████████████████████████████████████████████████████████████████████████████████| 100/100 [00:38<00:00,  2.62it/s]\n"
     ]
    },
    {
     "name": "stdout",
     "output_type": "stream",
     "text": [
      "Mean accuracy: 97.843750\n"
     ]
    },
    {
     "name": "stderr",
     "output_type": "stream",
     "text": [
      "100%|████████████████████████████████████████████████████████████████████████████████| 100/100 [00:24<00:00,  4.12it/s]\n"
     ]
    },
    {
     "name": "stdout",
     "output_type": "stream",
     "text": [
      "Mean Validation accuracy: 99.921875\n",
      "Epoch 60 of 80\n"
     ]
    },
    {
     "name": "stderr",
     "output_type": "stream",
     "text": [
      "100%|████████████████████████████████████████████████████████████████████████████████| 100/100 [00:38<00:00,  2.62it/s]\n"
     ]
    },
    {
     "name": "stdout",
     "output_type": "stream",
     "text": [
      "Mean accuracy: 98.015625\n"
     ]
    },
    {
     "name": "stderr",
     "output_type": "stream",
     "text": [
      "100%|████████████████████████████████████████████████████████████████████████████████| 100/100 [00:24<00:00,  4.11it/s]\n"
     ]
    },
    {
     "name": "stdout",
     "output_type": "stream",
     "text": [
      "Mean Validation accuracy: 99.828125\n",
      "Epoch 61 of 80\n"
     ]
    },
    {
     "name": "stderr",
     "output_type": "stream",
     "text": [
      "100%|████████████████████████████████████████████████████████████████████████████████| 100/100 [00:38<00:00,  2.62it/s]\n"
     ]
    },
    {
     "name": "stdout",
     "output_type": "stream",
     "text": [
      "Mean accuracy: 97.953125\n"
     ]
    },
    {
     "name": "stderr",
     "output_type": "stream",
     "text": [
      "100%|████████████████████████████████████████████████████████████████████████████████| 100/100 [00:24<00:00,  4.14it/s]\n"
     ]
    },
    {
     "name": "stdout",
     "output_type": "stream",
     "text": [
      "Mean Validation accuracy: 99.421875\n",
      "Epoch 62 of 80\n"
     ]
    },
    {
     "name": "stderr",
     "output_type": "stream",
     "text": [
      "100%|████████████████████████████████████████████████████████████████████████████████| 100/100 [00:38<00:00,  2.63it/s]\n"
     ]
    },
    {
     "name": "stdout",
     "output_type": "stream",
     "text": [
      "Mean accuracy: 97.484375\n"
     ]
    },
    {
     "name": "stderr",
     "output_type": "stream",
     "text": [
      "100%|████████████████████████████████████████████████████████████████████████████████| 100/100 [00:24<00:00,  4.13it/s]\n"
     ]
    },
    {
     "name": "stdout",
     "output_type": "stream",
     "text": [
      "Mean Validation accuracy: 99.515625\n",
      "Epoch 63 of 80\n"
     ]
    },
    {
     "name": "stderr",
     "output_type": "stream",
     "text": [
      "100%|████████████████████████████████████████████████████████████████████████████████| 100/100 [00:38<00:00,  2.62it/s]\n"
     ]
    },
    {
     "name": "stdout",
     "output_type": "stream",
     "text": [
      "Mean accuracy: 97.812500\n"
     ]
    },
    {
     "name": "stderr",
     "output_type": "stream",
     "text": [
      "100%|████████████████████████████████████████████████████████████████████████████████| 100/100 [00:24<00:00,  4.12it/s]\n"
     ]
    },
    {
     "name": "stdout",
     "output_type": "stream",
     "text": [
      "Mean Validation accuracy: 99.406250\n",
      "Epoch 64 of 80\n"
     ]
    },
    {
     "name": "stderr",
     "output_type": "stream",
     "text": [
      "100%|████████████████████████████████████████████████████████████████████████████████| 100/100 [00:38<00:00,  2.60it/s]\n"
     ]
    },
    {
     "name": "stdout",
     "output_type": "stream",
     "text": [
      "Mean accuracy: 97.828125\n"
     ]
    },
    {
     "name": "stderr",
     "output_type": "stream",
     "text": [
      "100%|████████████████████████████████████████████████████████████████████████████████| 100/100 [00:24<00:00,  4.12it/s]\n"
     ]
    },
    {
     "name": "stdout",
     "output_type": "stream",
     "text": [
      "Mean Validation accuracy: 99.656250\n",
      "Epoch 65 of 80\n"
     ]
    },
    {
     "name": "stderr",
     "output_type": "stream",
     "text": [
      "100%|████████████████████████████████████████████████████████████████████████████████| 100/100 [00:38<00:00,  2.62it/s]\n"
     ]
    },
    {
     "name": "stdout",
     "output_type": "stream",
     "text": [
      "Mean accuracy: 98.187500\n"
     ]
    },
    {
     "name": "stderr",
     "output_type": "stream",
     "text": [
      "100%|████████████████████████████████████████████████████████████████████████████████| 100/100 [00:24<00:00,  4.13it/s]\n"
     ]
    },
    {
     "name": "stdout",
     "output_type": "stream",
     "text": [
      "Mean Validation accuracy: 99.984375\n",
      "Epoch 66 of 80\n"
     ]
    },
    {
     "name": "stderr",
     "output_type": "stream",
     "text": [
      "100%|████████████████████████████████████████████████████████████████████████████████| 100/100 [00:38<00:00,  2.62it/s]\n"
     ]
    },
    {
     "name": "stdout",
     "output_type": "stream",
     "text": [
      "Mean accuracy: 97.875000\n"
     ]
    },
    {
     "name": "stderr",
     "output_type": "stream",
     "text": [
      "100%|████████████████████████████████████████████████████████████████████████████████| 100/100 [00:24<00:00,  4.13it/s]\n"
     ]
    },
    {
     "name": "stdout",
     "output_type": "stream",
     "text": [
      "Mean Validation accuracy: 99.796875\n",
      "Epoch 67 of 80\n"
     ]
    },
    {
     "name": "stderr",
     "output_type": "stream",
     "text": [
      "100%|████████████████████████████████████████████████████████████████████████████████| 100/100 [00:38<00:00,  2.62it/s]\n"
     ]
    },
    {
     "name": "stdout",
     "output_type": "stream",
     "text": [
      "Mean accuracy: 97.359375\n"
     ]
    },
    {
     "name": "stderr",
     "output_type": "stream",
     "text": [
      "100%|████████████████████████████████████████████████████████████████████████████████| 100/100 [00:24<00:00,  4.12it/s]\n"
     ]
    },
    {
     "name": "stdout",
     "output_type": "stream",
     "text": [
      "Mean Validation accuracy: 99.531250\n",
      "Epoch 68 of 80\n"
     ]
    },
    {
     "name": "stderr",
     "output_type": "stream",
     "text": [
      "100%|████████████████████████████████████████████████████████████████████████████████| 100/100 [00:38<00:00,  2.61it/s]\n"
     ]
    },
    {
     "name": "stdout",
     "output_type": "stream",
     "text": [
      "Mean accuracy: 97.671875\n"
     ]
    },
    {
     "name": "stderr",
     "output_type": "stream",
     "text": [
      "100%|████████████████████████████████████████████████████████████████████████████████| 100/100 [00:24<00:00,  4.13it/s]\n"
     ]
    },
    {
     "name": "stdout",
     "output_type": "stream",
     "text": [
      "Mean Validation accuracy: 99.828125\n",
      "Epoch 69 of 80\n"
     ]
    },
    {
     "name": "stderr",
     "output_type": "stream",
     "text": [
      "100%|████████████████████████████████████████████████████████████████████████████████| 100/100 [00:38<00:00,  2.62it/s]\n"
     ]
    },
    {
     "name": "stdout",
     "output_type": "stream",
     "text": [
      "Mean accuracy: 97.828125\n"
     ]
    },
    {
     "name": "stderr",
     "output_type": "stream",
     "text": [
      "100%|████████████████████████████████████████████████████████████████████████████████| 100/100 [00:24<00:00,  4.14it/s]\n"
     ]
    },
    {
     "name": "stdout",
     "output_type": "stream",
     "text": [
      "Mean Validation accuracy: 99.921875\n",
      "Epoch 70 of 80\n"
     ]
    },
    {
     "name": "stderr",
     "output_type": "stream",
     "text": [
      "100%|████████████████████████████████████████████████████████████████████████████████| 100/100 [00:38<00:00,  2.63it/s]\n"
     ]
    },
    {
     "name": "stdout",
     "output_type": "stream",
     "text": [
      "Mean accuracy: 98.234375\n"
     ]
    },
    {
     "name": "stderr",
     "output_type": "stream",
     "text": [
      "100%|████████████████████████████████████████████████████████████████████████████████| 100/100 [00:24<00:00,  4.14it/s]\n"
     ]
    },
    {
     "name": "stdout",
     "output_type": "stream",
     "text": [
      "Mean Validation accuracy: 99.953125\n",
      "Epoch 71 of 80\n"
     ]
    },
    {
     "name": "stderr",
     "output_type": "stream",
     "text": [
      "100%|████████████████████████████████████████████████████████████████████████████████| 100/100 [00:38<00:00,  2.63it/s]\n"
     ]
    },
    {
     "name": "stdout",
     "output_type": "stream",
     "text": [
      "Mean accuracy: 97.890625\n"
     ]
    },
    {
     "name": "stderr",
     "output_type": "stream",
     "text": [
      "100%|████████████████████████████████████████████████████████████████████████████████| 100/100 [00:24<00:00,  4.14it/s]\n"
     ]
    },
    {
     "name": "stdout",
     "output_type": "stream",
     "text": [
      "Mean Validation accuracy: 99.718750\n",
      "Epoch 72 of 80\n"
     ]
    },
    {
     "name": "stderr",
     "output_type": "stream",
     "text": [
      "100%|████████████████████████████████████████████████████████████████████████████████| 100/100 [00:38<00:00,  2.63it/s]\n"
     ]
    },
    {
     "name": "stdout",
     "output_type": "stream",
     "text": [
      "Mean accuracy: 98.078125\n"
     ]
    },
    {
     "name": "stderr",
     "output_type": "stream",
     "text": [
      "100%|████████████████████████████████████████████████████████████████████████████████| 100/100 [00:24<00:00,  4.14it/s]\n"
     ]
    },
    {
     "name": "stdout",
     "output_type": "stream",
     "text": [
      "Mean Validation accuracy: 99.546875\n",
      "Epoch 73 of 80\n"
     ]
    },
    {
     "name": "stderr",
     "output_type": "stream",
     "text": [
      "100%|████████████████████████████████████████████████████████████████████████████████| 100/100 [00:38<00:00,  2.62it/s]\n"
     ]
    },
    {
     "name": "stdout",
     "output_type": "stream",
     "text": [
      "Mean accuracy: 97.562500\n"
     ]
    },
    {
     "name": "stderr",
     "output_type": "stream",
     "text": [
      "100%|████████████████████████████████████████████████████████████████████████████████| 100/100 [00:24<00:00,  4.12it/s]\n"
     ]
    },
    {
     "name": "stdout",
     "output_type": "stream",
     "text": [
      "Mean Validation accuracy: 100.000000\n",
      "Epoch 74 of 80\n"
     ]
    },
    {
     "name": "stderr",
     "output_type": "stream",
     "text": [
      "100%|████████████████████████████████████████████████████████████████████████████████| 100/100 [00:38<00:00,  2.62it/s]\n"
     ]
    },
    {
     "name": "stdout",
     "output_type": "stream",
     "text": [
      "Mean accuracy: 98.218750\n"
     ]
    },
    {
     "name": "stderr",
     "output_type": "stream",
     "text": [
      "100%|████████████████████████████████████████████████████████████████████████████████| 100/100 [00:24<00:00,  4.12it/s]\n"
     ]
    },
    {
     "name": "stdout",
     "output_type": "stream",
     "text": [
      "Mean Validation accuracy: 99.890625\n",
      "Epoch 75 of 80\n"
     ]
    },
    {
     "name": "stderr",
     "output_type": "stream",
     "text": [
      "100%|████████████████████████████████████████████████████████████████████████████████| 100/100 [00:38<00:00,  2.61it/s]\n"
     ]
    },
    {
     "name": "stdout",
     "output_type": "stream",
     "text": [
      "Mean accuracy: 98.703125\n"
     ]
    },
    {
     "name": "stderr",
     "output_type": "stream",
     "text": [
      "100%|████████████████████████████████████████████████████████████████████████████████| 100/100 [00:24<00:00,  4.11it/s]\n"
     ]
    },
    {
     "name": "stdout",
     "output_type": "stream",
     "text": [
      "Mean Validation accuracy: 99.937500\n",
      "Epoch 76 of 80\n"
     ]
    },
    {
     "name": "stderr",
     "output_type": "stream",
     "text": [
      "100%|████████████████████████████████████████████████████████████████████████████████| 100/100 [00:38<00:00,  2.62it/s]\n"
     ]
    },
    {
     "name": "stdout",
     "output_type": "stream",
     "text": [
      "Mean accuracy: 98.437500\n"
     ]
    },
    {
     "name": "stderr",
     "output_type": "stream",
     "text": [
      "100%|████████████████████████████████████████████████████████████████████████████████| 100/100 [00:24<00:00,  4.13it/s]\n"
     ]
    },
    {
     "name": "stdout",
     "output_type": "stream",
     "text": [
      "Mean Validation accuracy: 99.890625\n",
      "Epoch 77 of 80\n"
     ]
    },
    {
     "name": "stderr",
     "output_type": "stream",
     "text": [
      "100%|████████████████████████████████████████████████████████████████████████████████| 100/100 [00:38<00:00,  2.62it/s]\n"
     ]
    },
    {
     "name": "stdout",
     "output_type": "stream",
     "text": [
      "Mean accuracy: 98.640625\n"
     ]
    },
    {
     "name": "stderr",
     "output_type": "stream",
     "text": [
      "100%|████████████████████████████████████████████████████████████████████████████████| 100/100 [00:24<00:00,  4.13it/s]\n"
     ]
    },
    {
     "name": "stdout",
     "output_type": "stream",
     "text": [
      "Mean Validation accuracy: 99.703125\n",
      "Epoch 78 of 80\n"
     ]
    },
    {
     "name": "stderr",
     "output_type": "stream",
     "text": [
      "100%|████████████████████████████████████████████████████████████████████████████████| 100/100 [00:38<00:00,  2.63it/s]\n"
     ]
    },
    {
     "name": "stdout",
     "output_type": "stream",
     "text": [
      "Mean accuracy: 98.578125\n"
     ]
    },
    {
     "name": "stderr",
     "output_type": "stream",
     "text": [
      "100%|████████████████████████████████████████████████████████████████████████████████| 100/100 [00:24<00:00,  4.04it/s]\n"
     ]
    },
    {
     "name": "stdout",
     "output_type": "stream",
     "text": [
      "Mean Validation accuracy: 99.968750\n",
      "Epoch 79 of 80\n"
     ]
    },
    {
     "name": "stderr",
     "output_type": "stream",
     "text": [
      "100%|████████████████████████████████████████████████████████████████████████████████| 100/100 [00:38<00:00,  2.62it/s]\n"
     ]
    },
    {
     "name": "stdout",
     "output_type": "stream",
     "text": [
      "Mean accuracy: 98.625000\n"
     ]
    },
    {
     "name": "stderr",
     "output_type": "stream",
     "text": [
      "100%|████████████████████████████████████████████████████████████████████████████████| 100/100 [00:24<00:00,  4.13it/s]\n"
     ]
    },
    {
     "name": "stdout",
     "output_type": "stream",
     "text": [
      "Mean Validation accuracy: 99.921875\n",
      "Epoch 80 of 80\n"
     ]
    },
    {
     "name": "stderr",
     "output_type": "stream",
     "text": [
      "100%|████████████████████████████████████████████████████████████████████████████████| 100/100 [00:38<00:00,  2.63it/s]\n"
     ]
    },
    {
     "name": "stdout",
     "output_type": "stream",
     "text": [
      "Mean accuracy: 98.281250\n"
     ]
    },
    {
     "name": "stderr",
     "output_type": "stream",
     "text": [
      "100%|████████████████████████████████████████████████████████████████████████████████| 100/100 [00:24<00:00,  4.12it/s]\n"
     ]
    },
    {
     "name": "stdout",
     "output_type": "stream",
     "text": [
      "Mean Validation accuracy: 99.828125\n",
      "TRAIN TIME:\n",
      "5.1e+03s\n"
     ]
    }
   ],
   "source": [
    "if __name__ == '__main__':\n",
    "    print(\"Creating Model and Initializing weights\")\n",
    "\t\n",
    "#    for model_class, loss_fn, suffix in zip([CategoricalNet, RegressionNet], [torch.nn.CrossEntropyLoss(), torch.nn.MSELoss()], [\"_categorical\", \"_regression\"]):\n",
    "#        for schedule in [True, False]:\n",
    "            \n",
    "    model_class, loss_fn, suffix = CategoricalNet, torch.nn.CrossEntropyLoss(), \"_categorical\"\n",
    "    schedule = True\n",
    "    \n",
    "    model = model_class()\n",
    "    model.apply(weight_init)\n",
    "    transform = transforms.Compose([transforms.ToTensor(), transforms.Normalize([0], [1])])\n",
    "\n",
    "start = time.time()\n",
    "train(model, transform, num_epochs=80, batch_size=64, lr_schedule=schedule, loss=loss_fn, suffix=suffix)\n",
    "end = time.time()\n",
    "print('TRAIN TIME:')\n",
    "print('%.2gs'%(end-start))"
   ]
  },
  {
   "cell_type": "code",
   "execution_count": 10,
   "metadata": {},
   "outputs": [
    {
     "name": "stderr",
     "output_type": "stream",
     "text": [
      "C:\\Users\\SpaceMeerkat\\Anaconda3\\lib\\site-packages\\torch\\serialization.py:193: UserWarning: Couldn't retrieve source code for container of type CategoricalNet. It won't be checked for correctness upon loading.\n",
      "  \"type \" + obj.__name__ + \". It won't be checked \"\n"
     ]
    }
   ],
   "source": [
    "torch.save(model, IMG_PATH+'CategoricalNet.pt')"
   ]
  },
  {
   "cell_type": "code",
   "execution_count": 11,
   "metadata": {},
   "outputs": [],
   "source": [
    "tester = torch.load(IMG_PATH+'CategoricalNet.pt')\n"
   ]
  },
  {
   "cell_type": "code",
   "execution_count": 12,
   "metadata": {},
   "outputs": [
    {
     "data": {
      "text/plain": [
       "CategoricalNet(\n",
       "  (feature_extractor): Sequential(\n",
       "    (0): Conv2d(1, 64, kernel_size=(5, 5), stride=(1, 1), padding=(2, 2))\n",
       "    (1): ReLU()\n",
       "    (2): Conv2d(64, 128, kernel_size=(5, 5), stride=(1, 1), padding=(2, 2))\n",
       "    (3): ReLU()\n",
       "    (4): BatchNorm2d(128, eps=1e-05, momentum=0.1, affine=True, track_running_stats=True)\n",
       "    (5): MaxPool2d(kernel_size=2, stride=2, padding=0, dilation=1, ceil_mode=False)\n",
       "    (6): Conv2d(128, 256, kernel_size=(5, 5), stride=(1, 1), padding=(2, 2))\n",
       "    (7): ReLU()\n",
       "    (8): BatchNorm2d(256, eps=1e-05, momentum=0.1, affine=True, track_running_stats=True)\n",
       "    (9): MaxPool2d(kernel_size=2, stride=2, padding=0, dilation=1, ceil_mode=False)\n",
       "  )\n",
       "  (classifier): Sequential(\n",
       "    (0): Dropout(p=0.25)\n",
       "    (1): Linear(in_features=65536, out_features=256, bias=True)\n",
       "    (2): ReLU()\n",
       "    (3): Dropout(p=0.25)\n",
       "    (4): Linear(in_features=256, out_features=10, bias=True)\n",
       "  )\n",
       ")"
      ]
     },
     "execution_count": 12,
     "metadata": {},
     "output_type": "execute_result"
    }
   ],
   "source": [
    "tester"
   ]
  },
  {
   "cell_type": "code",
   "execution_count": 13,
   "metadata": {},
   "outputs": [
    {
     "name": "stdout",
     "output_type": "stream",
     "text": [
      "tensor([[[[ 0.0999,  0.0910,  0.0701,  0.0778,  0.1133],\n",
      "          [ 0.0292,  0.0244, -0.0005, -0.0142,  0.0637],\n",
      "          [ 0.0499,  0.0609,  0.0390,  0.0610,  0.0520],\n",
      "          [ 0.0361,  0.0237, -0.0415,  0.0098,  0.0995],\n",
      "          [ 0.0612,  0.0445,  0.1240,  0.0828,  0.0478]]],\n",
      "\n",
      "\n",
      "        [[[-0.0146, -0.0799, -0.1182, -0.0418, -0.0117],\n",
      "          [-0.0783, -0.0643, -0.0982, -0.0935, -0.0589],\n",
      "          [ 0.0236,  0.1319,  0.1693,  0.0423, -0.0762],\n",
      "          [ 0.0220,  0.1007,  0.2266,  0.2028,  0.0663],\n",
      "          [-0.0245,  0.0580,  0.1015,  0.0746,  0.0167]]],\n",
      "\n",
      "\n",
      "        [[[ 0.1405,  0.1160,  0.0975,  0.0928,  0.1438],\n",
      "          [ 0.0972,  0.1011, -0.0180,  0.0588,  0.0962],\n",
      "          [ 0.0542,  0.0420, -0.0275,  0.0327,  0.0636],\n",
      "          [ 0.0792,  0.0498,  0.0673,  0.0157,  0.0736],\n",
      "          [ 0.1302,  0.0491,  0.0706,  0.1177,  0.1322]]],\n",
      "\n",
      "\n",
      "        ...,\n",
      "\n",
      "\n",
      "        [[[-0.0625, -0.0170, -0.0478,  0.0340, -0.0115],\n",
      "          [ 0.0669,  0.1827,  0.0015, -0.1001,  0.0373],\n",
      "          [-0.0064,  0.1755,  0.0135,  0.0356,  0.0144],\n",
      "          [ 0.0095,  0.0161, -0.0356, -0.0436, -0.0012],\n",
      "          [-0.0042, -0.0097, -0.1209, -0.0384,  0.0183]]],\n",
      "\n",
      "\n",
      "        [[[-0.1040,  0.0694, -0.0533,  0.0598,  0.1021],\n",
      "          [ 0.0743,  0.1313, -0.1149,  0.0867, -0.0565],\n",
      "          [-0.0298,  0.0927, -0.2181,  0.0879, -0.1208],\n",
      "          [ 0.0877,  0.1580, -0.1684,  0.1479, -0.0129],\n",
      "          [-0.0359, -0.0981, -0.0300,  0.0877,  0.0592]]],\n",
      "\n",
      "\n",
      "        [[[-0.0388, -0.1307, -0.0495,  0.0338,  0.0308],\n",
      "          [ 0.0537,  0.0685, -0.0026, -0.0858,  0.0153],\n",
      "          [ 0.1159,  0.1581,  0.0160, -0.1044, -0.0136],\n",
      "          [ 0.0936, -0.0117, -0.0069, -0.0931,  0.0609],\n",
      "          [-0.1036, -0.1520, -0.0700,  0.0530,  0.1121]]]], device='cuda:0')\n",
      "tensor([[[[-1.5270e-01, -9.2127e-02, -2.4891e-02, -1.1253e-01, -1.3875e-01],\n",
      "          [-3.0691e-02, -2.7824e-02, -2.8869e-02, -6.4726e-03, -1.1255e-01],\n",
      "          [-3.1895e-02,  3.1325e-02,  1.2202e-03,  7.9268e-03, -5.2767e-02],\n",
      "          [-5.8936e-02, -6.3466e-02, -2.2521e-03, -6.6473e-02, -1.5840e-01],\n",
      "          [-1.1965e-01, -6.2466e-02, -7.9249e-02, -8.5178e-02, -2.3938e-01]],\n",
      "\n",
      "         [[-1.5382e-01, -1.2913e-01, -1.2534e-01,  1.0962e-02,  1.4350e-02],\n",
      "          [-7.0965e-02, -1.0504e-01, -1.4825e-01, -1.0604e-01, -1.5440e-02],\n",
      "          [-5.6053e-03, -3.8085e-02, -3.7631e-02, -6.1634e-02, -3.0026e-02],\n",
      "          [-7.7804e-03, -3.8792e-02, -6.0737e-02, -9.9179e-02, -9.9812e-02],\n",
      "          [-7.7327e-02, -2.6063e-02, -1.1971e-01, -1.5510e-01, -2.0280e-01]],\n",
      "\n",
      "         [[-1.3060e-01, -8.1686e-02, -1.0042e-01, -3.6219e-02, -7.4985e-02],\n",
      "          [-1.2021e-01, -1.7399e-02, -2.0850e-02,  1.4618e-04, -1.0672e-01],\n",
      "          [-1.4136e-01, -4.9636e-02, -5.7915e-02,  1.4423e-03, -9.1420e-02],\n",
      "          [-1.4001e-01, -2.8846e-02,  1.2912e-02, -2.0192e-02, -1.1381e-01],\n",
      "          [-1.4846e-01, -1.2014e-01, -1.1983e-01, -1.5420e-01, -1.9120e-01]],\n",
      "\n",
      "         ...,\n",
      "\n",
      "         [[-2.0231e-02, -3.9846e-02, -3.1669e-02, -2.3959e-02,  1.8217e-02],\n",
      "          [-2.7377e-02,  6.1022e-03, -2.9976e-02, -3.0394e-03,  3.9141e-02],\n",
      "          [ 4.4516e-02,  1.6980e-02,  5.8743e-02,  6.0291e-02,  1.1251e-02],\n",
      "          [-3.3096e-02,  3.3236e-02,  6.3572e-02,  5.6391e-02, -2.8702e-02],\n",
      "          [-2.7228e-02, -3.6484e-02, -4.9281e-02, -3.0331e-03, -7.0430e-02]],\n",
      "\n",
      "         [[ 1.2510e-01,  5.0685e-02,  7.2531e-02, -3.5189e-02, -4.5902e-03],\n",
      "          [ 8.0584e-02,  2.0540e-02,  5.0035e-02, -1.3658e-03, -1.1175e-01],\n",
      "          [ 8.5009e-02,  7.0379e-02,  1.2430e-02, -2.5638e-03, -4.1025e-02],\n",
      "          [ 1.0025e-02,  1.1772e-02,  7.1500e-02,  2.2419e-03, -7.6231e-02],\n",
      "          [ 6.3816e-02,  1.0545e-01,  6.7132e-02, -4.0846e-02, -6.7312e-02]],\n",
      "\n",
      "         [[ 1.2801e-02,  5.7341e-03, -2.0417e-02, -8.1779e-02, -1.3552e-01],\n",
      "          [-1.4512e-03, -9.2115e-03, -1.0171e-02, -1.1783e-01, -1.5227e-01],\n",
      "          [ 6.4851e-03,  4.6659e-02, -1.8350e-02, -8.1508e-02,  4.3667e-02],\n",
      "          [-4.5567e-02, -1.1790e-02, -3.5464e-02, -1.5626e-02, -8.0503e-02],\n",
      "          [ 3.9525e-02,  4.4680e-02, -8.8504e-02, -1.2807e-01, -1.6144e-01]]],\n",
      "\n",
      "\n",
      "        [[[-1.7169e-02, -3.4022e-03, -3.0344e-03, -9.5510e-03, -2.1595e-02],\n",
      "          [-2.9971e-02, -4.3191e-02, -2.6340e-02, -4.7992e-02, -2.3158e-02],\n",
      "          [ 2.3399e-03, -1.8953e-02,  1.9493e-03,  1.3957e-02, -1.2420e-02],\n",
      "          [-2.0722e-03, -3.6328e-02,  1.7926e-02, -5.1395e-03, -1.1968e-02],\n",
      "          [-1.7801e-02, -6.1388e-03, -3.7611e-02, -4.3775e-02, -5.6443e-02]],\n",
      "\n",
      "         [[-7.0831e-03,  1.4268e-02,  8.7737e-03, -7.1398e-03, -4.5793e-02],\n",
      "          [ 1.4560e-02,  1.7256e-02, -1.8682e-02,  1.0913e-02, -1.3149e-02],\n",
      "          [-1.9106e-02, -4.5367e-02,  6.4496e-03,  1.2993e-04, -3.0768e-02],\n",
      "          [-5.4284e-02, -2.8212e-03, -5.5180e-03,  1.0020e-02, -7.2282e-03],\n",
      "          [-6.5070e-03,  8.2781e-03, -2.2916e-02, -5.1565e-02, -3.9779e-02]],\n",
      "\n",
      "         [[-1.8579e-02,  4.0775e-03,  4.4024e-03, -3.3673e-02, -5.2573e-02],\n",
      "          [-3.4418e-02, -5.4093e-02, -2.9064e-02, -3.4241e-02, -5.0989e-02],\n",
      "          [ 1.8007e-03, -2.7776e-02, -3.6379e-03, -3.0458e-03, -7.6527e-03],\n",
      "          [-2.5385e-02,  1.2164e-02,  7.2838e-03, -4.0862e-02, -6.1551e-02],\n",
      "          [-5.0886e-03, -1.3848e-02,  4.6955e-03,  1.6760e-02, -2.9625e-02]],\n",
      "\n",
      "         ...,\n",
      "\n",
      "         [[-2.6825e-02, -2.5571e-02, -4.3306e-02, -7.9891e-03,  1.3342e-02],\n",
      "          [-8.9070e-03,  1.6629e-02, -3.7269e-02,  8.0165e-05, -2.5891e-02],\n",
      "          [-1.0363e-02, -1.7971e-02,  1.8905e-02,  2.4163e-02, -5.3436e-04],\n",
      "          [-2.3705e-02, -2.4933e-02, -3.8187e-02,  2.6730e-02,  1.0046e-02],\n",
      "          [-4.5124e-02,  5.9135e-03, -2.9785e-02,  2.6154e-02, -1.4997e-02]],\n",
      "\n",
      "         [[-2.5838e-02, -9.3083e-03, -1.6388e-02, -9.6501e-03, -6.3057e-02],\n",
      "          [-7.4326e-03, -6.0144e-02, -1.3720e-02,  8.5074e-03,  8.1585e-03],\n",
      "          [-3.3378e-02, -5.3788e-03,  2.1521e-02, -3.7641e-02, -3.5024e-02],\n",
      "          [-2.4602e-02,  3.1557e-03, -2.3213e-02, -1.9596e-02, -3.5982e-02],\n",
      "          [-3.3163e-02, -1.0378e-03,  6.6293e-03,  4.3357e-03, -4.7377e-02]],\n",
      "\n",
      "         [[-3.2900e-02, -3.8927e-03, -2.4861e-02, -3.8686e-02,  4.1758e-03],\n",
      "          [-3.4759e-02, -5.1218e-02, -2.0212e-02,  1.4253e-02,  2.7179e-02],\n",
      "          [ 1.5557e-02, -3.1987e-02, -4.1742e-02, -3.6923e-02,  2.5319e-02],\n",
      "          [ 2.0918e-02, -3.5760e-02, -3.8541e-04,  1.6636e-02,  9.8209e-03],\n",
      "          [ 1.8182e-02,  8.8614e-03, -2.8418e-02, -2.2491e-03,  3.7885e-02]]],\n",
      "\n",
      "\n",
      "        [[[-9.0723e-02,  1.5014e-02,  2.7188e-02, -7.3546e-03, -3.8150e-02],\n",
      "          [ 5.2387e-03,  7.6319e-02,  7.1286e-02,  4.3551e-02,  5.5821e-04],\n",
      "          [-1.2690e-02,  6.1189e-02,  1.0031e-01,  1.3496e-01,  5.4747e-02],\n",
      "          [ 4.1423e-02,  1.0449e-01,  1.4694e-01,  8.9762e-02,  3.9935e-02],\n",
      "          [ 2.3779e-02,  6.9723e-02,  4.7543e-02,  7.0529e-02,  3.1349e-02]],\n",
      "\n",
      "         [[-4.1311e-02,  5.2560e-03, -4.8901e-02, -5.1972e-02, -7.5055e-02],\n",
      "          [-7.7587e-02, -4.8013e-02,  8.7391e-03, -2.9236e-02, -7.9501e-02],\n",
      "          [ 6.6838e-03,  1.3666e-02,  5.2424e-02,  7.0343e-02,  3.5633e-02],\n",
      "          [-2.2756e-02,  5.8657e-03,  5.6212e-02, -2.6099e-03,  1.6042e-02],\n",
      "          [-7.4367e-02, -1.9843e-02, -1.7213e-02, -2.8208e-02, -8.8832e-02]],\n",
      "\n",
      "         [[-5.4776e-02, -1.4070e-02, -1.0105e-02,  1.3219e-02, -5.0881e-02],\n",
      "          [ 1.5858e-02,  6.1924e-02,  4.1968e-02,  7.9007e-02,  7.1635e-03],\n",
      "          [-1.6474e-02,  9.4911e-02,  1.4980e-01,  9.0774e-02,  7.6091e-02],\n",
      "          [ 4.4321e-02,  6.6792e-02,  1.4595e-01,  1.2321e-01,  7.6548e-02],\n",
      "          [-1.7015e-02,  1.9169e-02,  3.9961e-02,  7.2709e-02,  2.5763e-02]],\n",
      "\n",
      "         ...,\n",
      "\n",
      "         [[-6.6558e-02,  2.2098e-02,  2.7284e-03,  2.6473e-03, -5.4273e-02],\n",
      "          [-6.3578e-02,  2.2300e-02,  4.5406e-02,  5.2957e-02, -7.0391e-03],\n",
      "          [-4.8071e-02,  3.7524e-02,  2.0353e-02,  3.7216e-02,  4.1714e-02],\n",
      "          [-2.5344e-02,  2.5134e-02,  5.1759e-02,  7.5505e-02,  6.7450e-02],\n",
      "          [-4.9502e-02, -1.4231e-02,  2.0498e-02,  2.4678e-02,  1.6621e-02]],\n",
      "\n",
      "         [[-7.8715e-03, -5.1929e-05, -5.6881e-03,  5.5751e-02, -2.5141e-02],\n",
      "          [ 1.5863e-03,  2.8185e-02,  9.2272e-02,  1.7344e-02,  2.9623e-02],\n",
      "          [ 3.3614e-02,  1.1702e-01,  1.1929e-01,  6.8808e-02,  6.5310e-02],\n",
      "          [ 4.5686e-02,  5.1529e-02,  1.4462e-01,  5.4700e-02,  1.1875e-01],\n",
      "          [ 1.5214e-03,  1.0089e-01,  7.1864e-02,  5.0242e-02,  1.0127e-01]],\n",
      "\n",
      "         [[-9.6727e-02, -6.0812e-02, -6.3121e-02, -1.0134e-03, -4.5288e-02],\n",
      "          [-4.0661e-02,  3.5772e-02,  5.3736e-02,  8.6984e-02,  2.9324e-03],\n",
      "          [-7.3677e-02, -1.9515e-02,  1.9480e-02,  8.4744e-02, -5.0997e-03],\n",
      "          [-3.4256e-02,  2.6057e-02,  1.2823e-02,  1.0467e-01, -1.1420e-02],\n",
      "          [-4.3028e-02, -2.8959e-02, -3.2169e-03,  3.9082e-02, -1.6956e-02]]],\n",
      "\n",
      "\n",
      "        ...,\n",
      "\n",
      "\n",
      "        [[[-1.8920e-03, -9.7971e-02, -3.7132e-02, -2.2678e-02,  1.7686e-03],\n",
      "          [-3.6865e-02, -8.4695e-02, -3.7571e-02, -2.4423e-02,  3.3976e-02],\n",
      "          [-6.5274e-02, -7.2775e-02, -3.2434e-02,  2.3214e-04,  1.3003e-02],\n",
      "          [-6.7093e-02, -5.4702e-02, -5.8792e-02,  6.3897e-03,  7.7274e-02],\n",
      "          [-1.1665e-01, -1.5926e-01, -5.6983e-02,  1.4318e-02,  4.9781e-02]],\n",
      "\n",
      "         [[-2.2929e-03, -8.9170e-02, -3.4030e-02, -1.9933e-02, -1.9643e-03],\n",
      "          [ 1.5032e-03, -3.3727e-02, -3.3131e-03, -1.4669e-01, -5.5763e-02],\n",
      "          [-3.1120e-02,  5.2422e-03, -1.2396e-01, -1.6851e-01, -1.2640e-01],\n",
      "          [-5.0111e-02, -1.2460e-01, -1.3262e-01, -8.6429e-02, -9.5305e-02],\n",
      "          [ 7.4463e-03, -2.7403e-02, -2.1913e-02, -6.5799e-02, -5.8717e-02]],\n",
      "\n",
      "         [[-2.5553e-02, -8.5075e-02, -6.9278e-02, -2.7873e-02, -4.4858e-03],\n",
      "          [-3.7405e-04, -1.0574e-01, -6.6663e-02, -6.4428e-02, -4.8217e-04],\n",
      "          [-8.4729e-02, -1.0361e-01, -9.2028e-02, -5.2199e-02,  3.8139e-03],\n",
      "          [-9.1769e-02, -1.0745e-01, -4.2666e-02, -4.1275e-02,  3.4877e-02],\n",
      "          [-4.0930e-02, -2.0557e-01, -1.3741e-01, -3.4531e-02,  2.1682e-02]],\n",
      "\n",
      "         ...,\n",
      "\n",
      "         [[ 3.1316e-02,  2.0638e-02,  2.7280e-03, -8.3374e-02, -4.7090e-02],\n",
      "          [ 5.3386e-02,  4.5182e-02, -5.2211e-02, -1.1840e-01, -6.7679e-02],\n",
      "          [ 3.3989e-02,  1.4939e-02,  3.7586e-02, -6.0326e-02, -3.6113e-02],\n",
      "          [-4.3236e-03,  4.5215e-02,  2.4572e-02, -2.9439e-02, -8.2180e-03],\n",
      "          [-1.4592e-02,  4.7315e-02,  3.4695e-02, -1.1518e-02, -3.2826e-02]],\n",
      "\n",
      "         [[-3.8933e-02, -9.4627e-02,  4.1822e-02,  3.6405e-02, -1.6260e-02],\n",
      "          [-8.8575e-03, -7.1581e-02, -1.6071e-02, -3.2669e-02,  1.9429e-02],\n",
      "          [-3.0070e-02, -2.6591e-02,  4.9180e-02, -6.0100e-02,  5.6993e-02],\n",
      "          [-9.5533e-02, -8.3652e-02,  2.6119e-02, -1.3005e-02, -4.7144e-04],\n",
      "          [ 2.6573e-02, -8.1766e-02,  6.4694e-02, -3.6349e-02,  1.3291e-02]],\n",
      "\n",
      "         [[-3.4403e-03,  2.1590e-04,  1.8736e-02, -1.3439e-02, -1.7705e-03],\n",
      "          [-8.5496e-02,  4.3210e-02, -7.2439e-03, -3.0517e-02, -2.1795e-03],\n",
      "          [-3.7894e-02,  7.1282e-02,  4.5094e-02, -2.2967e-02,  2.9101e-02],\n",
      "          [-5.3281e-02,  4.8169e-02,  6.1066e-02, -3.4261e-02, -6.9893e-02],\n",
      "          [-5.5300e-02,  6.0328e-02,  7.2972e-02,  9.2773e-03, -2.9450e-04]]],\n",
      "\n",
      "\n",
      "        [[[-5.8489e-03,  1.5294e-02, -5.9093e-02, -4.7164e-02,  6.4096e-02],\n",
      "          [ 3.3583e-02, -4.4661e-02, -4.3773e-02,  3.2178e-02, -2.0726e-02],\n",
      "          [-5.3873e-02, -1.1482e-01, -3.4722e-02,  6.0813e-03, -5.9974e-02],\n",
      "          [-1.6926e-02, -1.4313e-01, -2.6117e-02, -5.2087e-02, -5.3785e-02],\n",
      "          [-1.3944e-02, -7.8457e-02, -1.0451e-01, -8.8410e-02,  1.6084e-03]],\n",
      "\n",
      "         [[-7.1387e-02, -1.2167e-01, -1.6392e-01, -6.8635e-02, -3.6336e-02],\n",
      "          [-8.1642e-02, -1.7446e-01, -9.3157e-02, -8.7185e-02, -4.9921e-02],\n",
      "          [ 4.9108e-03, -6.7137e-02, -1.0949e-01, -4.1548e-03, -6.3957e-04],\n",
      "          [-1.2829e-03, -5.2774e-02, -1.2669e-01, -1.9327e-01, -1.6997e-01],\n",
      "          [ 3.7662e-03,  3.8895e-02, -2.8793e-02, -8.2870e-02, -1.7498e-01]],\n",
      "\n",
      "         [[ 4.9868e-02, -6.8257e-03, -3.9257e-02, -6.5636e-02,  1.4374e-03],\n",
      "          [-1.8221e-02, -5.2006e-02, -9.9756e-02, -1.4310e-02, -4.3391e-02],\n",
      "          [-7.2633e-02, -1.2317e-01, -9.4911e-02, -6.2098e-02, -3.0847e-02],\n",
      "          [-8.4689e-03, -1.4170e-01, -4.5369e-02, -3.3310e-02, -3.1959e-02],\n",
      "          [-5.5493e-03, -5.5918e-02, -8.1616e-02, -6.2195e-02, -4.4987e-02]],\n",
      "\n",
      "         ...,\n",
      "\n",
      "         [[ 8.9457e-03,  2.0319e-02,  2.5110e-02,  8.2760e-02,  7.2954e-02],\n",
      "          [-4.9154e-02, -7.6125e-03,  4.1325e-02,  5.7901e-02,  5.5161e-02],\n",
      "          [-7.9345e-03,  2.6827e-02,  8.5417e-02,  8.6135e-02, -2.2718e-02],\n",
      "          [-3.2724e-02,  2.8822e-02,  4.1907e-02, -6.4356e-02,  8.9726e-03],\n",
      "          [-8.2106e-02, -5.1066e-03, -1.8323e-02, -6.2337e-02,  3.6679e-04]],\n",
      "\n",
      "         [[-3.7446e-02, -1.0802e-01, -4.7540e-02,  3.0847e-02,  3.5590e-02],\n",
      "          [-1.5029e-01, -1.1556e-01, -5.3581e-02,  1.2196e-02, -2.0391e-02],\n",
      "          [-9.5169e-02, -1.3258e-01, -1.0116e-01, -5.5193e-02,  1.0958e-02],\n",
      "          [ 2.3055e-04, -1.6778e-01, -3.3619e-02, -1.0854e-01, -4.2486e-02],\n",
      "          [-2.5501e-03, -1.6164e-01,  6.1571e-02, -1.2360e-01, -6.9037e-02]],\n",
      "\n",
      "         [[-1.2003e-01, -4.8320e-02, -2.1718e-02,  3.2180e-02,  5.4857e-02],\n",
      "          [-1.5648e-01, -6.3163e-02, -9.0629e-02,  2.4057e-02, -4.8469e-02],\n",
      "          [-9.0558e-02, -1.4758e-01, -1.4387e-01, -5.1663e-02,  4.9753e-03],\n",
      "          [-7.4527e-03, -5.0787e-02, -8.9732e-02, -3.6551e-02, -2.7467e-03],\n",
      "          [-2.4868e-02, -5.8841e-02, -3.3648e-02, -4.4907e-02, -2.3091e-02]]],\n",
      "\n",
      "\n",
      "        [[[ 8.2712e-03,  5.9472e-02,  6.5275e-02,  4.5949e-02, -5.0900e-03],\n",
      "          [ 4.1187e-02,  1.0422e-01,  6.6306e-02,  3.6465e-02,  2.6376e-02],\n",
      "          [ 4.7707e-02,  5.8471e-02,  1.0326e-01,  4.2312e-02,  1.9535e-02],\n",
      "          [ 7.8319e-02,  9.1318e-02,  1.0473e-01,  1.5018e-02,  1.5491e-02],\n",
      "          [ 6.7510e-02,  3.3619e-02,  1.4031e-02,  1.0289e-02, -3.4047e-03]],\n",
      "\n",
      "         [[ 1.3452e-03,  3.5714e-02,  2.5098e-03,  1.2849e-02, -1.9515e-02],\n",
      "          [-6.5832e-02,  4.6493e-03,  1.5599e-02, -4.2929e-02, -8.9604e-02],\n",
      "          [-9.8959e-03, -4.1272e-02, -5.1318e-02, -6.9047e-02, -9.8706e-02],\n",
      "          [-2.8899e-02, -4.0750e-03, -5.9757e-03, -4.7241e-02, -1.0554e-01],\n",
      "          [-4.9596e-02, -5.4272e-02, -2.5184e-02, -7.7911e-02, -1.0921e-01]],\n",
      "\n",
      "         [[-2.5970e-02,  4.0749e-02,  1.2377e-02, -1.3629e-02, -3.4797e-02],\n",
      "          [ 5.8473e-02,  8.7797e-02,  2.9640e-02,  5.9909e-02,  4.5690e-02],\n",
      "          [ 2.1543e-02,  1.0580e-01,  9.7049e-02,  5.4602e-02, -1.2344e-02],\n",
      "          [ 1.7005e-02,  5.1383e-02,  2.9622e-02,  5.2124e-02, -8.5677e-03],\n",
      "          [ 7.0384e-02,  2.9619e-02, -5.2056e-03,  3.0721e-02, -6.5228e-03]],\n",
      "\n",
      "         ...,\n",
      "\n",
      "         [[-6.3941e-02, -3.4166e-02, -7.8266e-02, -3.4101e-02,  2.0719e-02],\n",
      "          [-7.8384e-02, -4.1072e-02, -2.6849e-02,  5.8715e-03,  6.1178e-02],\n",
      "          [-5.5480e-02, -5.1721e-02, -4.2674e-02,  2.0459e-02,  3.2681e-02],\n",
      "          [-5.3860e-02, -4.6151e-02, -6.0892e-02, -1.1986e-02, -2.1455e-02],\n",
      "          [-1.5950e-03, -4.9892e-02, -3.2546e-02,  4.5115e-02, -1.2556e-02]],\n",
      "\n",
      "         [[ 1.6559e-02,  3.5795e-02,  3.2777e-02, -6.8559e-03, -1.0656e-02],\n",
      "          [ 2.5306e-02,  1.1363e-02,  1.3521e-02,  7.2558e-03,  6.1473e-02],\n",
      "          [ 4.7521e-02, -1.3586e-03, -2.1179e-02,  2.4806e-02,  2.0762e-02],\n",
      "          [ 3.6287e-02,  5.8172e-02, -9.1872e-03, -7.7557e-03, -1.9918e-02],\n",
      "          [ 5.7131e-02,  4.7984e-02, -2.4528e-02, -1.3024e-02, -7.4856e-03]],\n",
      "\n",
      "         [[-7.6628e-02, -6.7916e-02, -4.6473e-02, -6.0017e-02, -5.8362e-02],\n",
      "          [-5.8848e-02, -4.2599e-02, -5.6705e-02, -8.6737e-03, -2.0064e-04],\n",
      "          [-5.9549e-02, -9.8722e-02, -5.8852e-02, -4.1129e-02, -1.1087e-02],\n",
      "          [ 3.3015e-03, -7.4679e-02, -1.9622e-02, -1.1730e-02, -3.8651e-02],\n"
     ]
    },
    {
     "name": "stdout",
     "output_type": "stream",
     "text": [
      "          [-6.5585e-02, -6.8055e-02, -5.1742e-02, -1.9495e-02, -3.4519e-02]]]], device='cuda:0')\n",
      "tensor([[[[-2.3556e-02, -1.8106e-03,  7.4781e-03,  1.9223e-02,  1.3331e-02],\n",
      "          [-7.1559e-02, -4.7671e-02, -6.2271e-03, -9.7190e-03,  2.9484e-02],\n",
      "          [-9.1595e-02, -6.2363e-02, -6.3620e-02, -1.8969e-02, -1.0025e-02],\n",
      "          [-2.9977e-02, -4.1701e-02, -3.5117e-02, -6.0476e-03, -1.5700e-02],\n",
      "          [-1.2051e-02,  1.6457e-02, -1.8665e-02, -7.1020e-02, -2.6681e-02]],\n",
      "\n",
      "         [[ 5.1376e-02,  1.4618e-03,  5.4652e-02,  1.2561e-02,  8.8190e-03],\n",
      "          [ 1.0436e-02,  1.6731e-02,  1.9520e-02,  3.0582e-03, -4.7279e-03],\n",
      "          [ 3.2261e-02, -9.1264e-03, -2.0695e-03,  1.1592e-02,  2.4329e-02],\n",
      "          [ 1.2662e-02, -2.6965e-02, -1.8062e-02, -3.1111e-03,  8.1469e-03],\n",
      "          [ 9.8981e-03,  1.8469e-02,  2.0463e-02,  2.0377e-03, -4.0770e-03]],\n",
      "\n",
      "         [[ 1.2828e-02,  5.1422e-02,  2.7319e-02,  3.5357e-02,  4.4633e-02],\n",
      "          [-5.4573e-02, -9.0133e-03, -2.9647e-02, -2.8142e-04,  5.0681e-02],\n",
      "          [-1.4122e-01, -5.0943e-02, -1.8087e-02,  4.7451e-02,  4.6725e-02],\n",
      "          [-1.0794e-01, -6.9009e-02, -1.2680e-02, -7.5877e-03,  2.0954e-03],\n",
      "          [-7.0491e-02, -3.7200e-02, -2.5073e-02, -1.1533e-02, -9.3260e-03]],\n",
      "\n",
      "         ...,\n",
      "\n",
      "         [[-1.2335e-01, -1.4386e-02,  5.8667e-02,  3.8477e-02,  6.6144e-02],\n",
      "          [-1.5083e-01, -9.5312e-02,  6.3376e-03,  2.5088e-02,  7.2346e-02],\n",
      "          [-1.2834e-01, -3.1612e-02, -2.2416e-02,  1.9071e-02,  6.4832e-02],\n",
      "          [-9.4704e-02, -3.6296e-02, -4.5980e-02, -1.4637e-02,  2.3945e-02],\n",
      "          [ 1.7482e-02,  7.0248e-03, -1.1268e-02, -4.0058e-02,  1.7813e-02]],\n",
      "\n",
      "         [[-2.9657e-02, -3.9440e-02, -6.6832e-02, -1.3503e-01, -1.7382e-01],\n",
      "          [ 6.8648e-03, -2.0991e-02, -5.9313e-02, -2.3490e-02, -9.3057e-02],\n",
      "          [ 5.1898e-02,  2.4936e-02, -7.2988e-02, -1.7749e-02, -7.1706e-02],\n",
      "          [ 2.0612e-03, -6.5946e-02, -4.7454e-02, -4.5462e-02, -8.4171e-02],\n",
      "          [ 8.3222e-02, -3.1184e-03, -6.2460e-02, -6.6242e-02, -1.1149e-02]],\n",
      "\n",
      "         [[ 1.6468e-02, -2.3216e-03, -1.1722e-02, -2.8951e-02, -4.8246e-03],\n",
      "          [-8.9797e-02, -3.9036e-02, -3.2658e-02, -6.3955e-02, -1.5628e-02],\n",
      "          [-1.1684e-01, -9.5500e-02, -3.3786e-02, -3.9460e-02, -5.2839e-02],\n",
      "          [-8.8634e-02, -8.7772e-02, -1.6973e-02, -3.3317e-03, -4.7954e-02],\n",
      "          [-9.5086e-02, -5.3252e-02, -3.3619e-02, -1.3392e-02, -1.3869e-03]]],\n",
      "\n",
      "\n",
      "        [[[-9.7952e-02, -9.4904e-02, -6.3026e-02, -7.8366e-02, -9.3932e-02],\n",
      "          [-6.8141e-02, -5.8404e-02, -6.4084e-02, -7.1455e-02, -1.4857e-01],\n",
      "          [-1.0172e-02, -2.7781e-02, -6.9409e-02, -1.1380e-01, -1.0374e-01],\n",
      "          [-5.2290e-03, -1.3534e-02, -6.0213e-02, -6.6097e-02, -8.2630e-02],\n",
      "          [-3.4927e-03,  2.3678e-02,  1.5849e-02, -5.9342e-02, -6.8277e-02]],\n",
      "\n",
      "         [[ 1.0941e-02,  3.5308e-02,  4.5580e-02,  1.1635e-02,  4.2583e-02],\n",
      "          [ 4.2385e-02,  4.8687e-02,  1.7786e-02,  1.8930e-02,  2.3656e-02],\n",
      "          [ 1.7664e-02,  5.0563e-02,  4.6507e-02,  4.0945e-02,  4.6716e-02],\n",
      "          [ 2.0788e-02,  5.0433e-02,  5.1728e-02,  6.3491e-02,  1.2415e-03],\n",
      "          [ 1.7223e-03,  5.0702e-02,  4.7689e-02,  5.5876e-02,  8.2117e-04]],\n",
      "\n",
      "         [[-2.7004e-02,  8.3664e-03,  3.9417e-03, -5.6890e-02, -9.6735e-02],\n",
      "          [-8.5538e-03,  1.2526e-02, -1.6700e-04, -5.9767e-02, -9.8343e-02],\n",
      "          [-3.9259e-03, -7.7193e-03, -3.6308e-02, -7.5121e-02, -6.9554e-02],\n",
      "          [ 1.1818e-02,  2.7801e-02, -3.2295e-02, -3.2216e-02, -4.1167e-02],\n",
      "          [ 2.1565e-02, -1.5617e-03, -1.0468e-02, -3.1541e-02, -9.5820e-03]],\n",
      "\n",
      "         ...,\n",
      "\n",
      "         [[-5.0834e-02,  4.8083e-03, -3.6821e-02, -1.3948e-01, -1.1183e-01],\n",
      "          [-7.1096e-03,  4.6383e-02,  5.9236e-02, -1.1443e-01, -9.1555e-02],\n",
      "          [ 5.6815e-02,  7.3836e-02,  4.3914e-02, -5.2369e-02, -1.1687e-02],\n",
      "          [ 8.7799e-02,  3.7066e-02,  1.1100e-02, -5.3655e-03,  1.9566e-02],\n",
      "          [ 3.2551e-02,  9.7176e-02,  4.0166e-02,  4.8003e-04,  3.1294e-02]],\n",
      "\n",
      "         [[ 3.2632e-02, -9.6958e-02, -5.9935e-02,  7.0244e-02, -1.4792e-03],\n",
      "          [-3.4486e-02, -7.2134e-02, -3.5768e-02,  8.4161e-02,  4.2186e-02],\n",
      "          [-5.9205e-03, -4.3081e-02, -2.0716e-02,  5.0563e-02,  5.6887e-02],\n",
      "          [-3.5269e-02, -3.9755e-02, -6.6214e-02,  7.4724e-02,  1.3679e-02],\n",
      "          [ 7.3297e-03,  3.1711e-02,  7.0274e-03,  5.9516e-02,  1.3724e-02]],\n",
      "\n",
      "         [[-2.7258e-02, -1.9506e-02,  8.2706e-03, -2.5713e-02, -7.5170e-02],\n",
      "          [-5.6582e-02,  5.9602e-03, -8.6365e-03, -2.4262e-02, -8.0735e-02],\n",
      "          [-4.0721e-02, -2.2929e-02,  1.8819e-03, -7.1238e-02, -7.5149e-02],\n",
      "          [-1.6526e-02, -4.8469e-02, -3.7022e-02, -8.0723e-02, -4.8309e-02],\n",
      "          [-1.9581e-02, -1.2598e-02, -5.0588e-02, -7.0148e-02, -5.1524e-02]]],\n",
      "\n",
      "\n",
      "        [[[-3.6409e-02, -3.4421e-02, -4.8362e-02, -1.0811e-01, -1.2378e-01],\n",
      "          [-3.6472e-02, -4.8929e-02, -3.8188e-02, -6.9599e-02, -9.4561e-02],\n",
      "          [-2.2529e-02, -6.2627e-03, -4.3975e-02, -6.4427e-02, -9.4295e-02],\n",
      "          [-8.0695e-03,  9.9509e-03,  1.5221e-02, -3.9885e-02, -2.2999e-02],\n",
      "          [-4.2287e-02,  9.4240e-03,  3.5064e-02, -1.2714e-02, -3.2294e-02]],\n",
      "\n",
      "         [[-8.1465e-03, -9.2911e-03, -3.0121e-02, -2.5710e-02,  1.2651e-02],\n",
      "          [-3.0965e-02, -1.4911e-02, -1.1238e-02,  2.9033e-02, -5.4556e-03],\n",
      "          [-2.1915e-02, -9.8112e-03, -1.2061e-02,  9.7680e-03, -2.3162e-02],\n",
      "          [-8.7372e-03, -1.2491e-02,  1.0585e-02,  1.6408e-02, -1.4049e-02],\n",
      "          [-2.3180e-02, -2.4141e-03, -7.7812e-03, -1.5509e-02, -2.2592e-02]],\n",
      "\n",
      "         [[-4.2565e-02, -4.3665e-02, -5.8895e-02, -6.1524e-02, -9.1479e-02],\n",
      "          [-2.9507e-02, -1.1722e-02, -1.8820e-02, -3.8715e-02, -2.5923e-02],\n",
      "          [-1.3395e-02,  1.6231e-02,  1.9915e-02, -1.6301e-02, -4.0195e-02],\n",
      "          [ 5.8834e-02,  1.3261e-02,  2.3368e-02,  1.1927e-02, -2.8972e-02],\n",
      "          [-3.6704e-03,  3.0895e-02, -1.8420e-02, -1.6807e-02, -5.3014e-02]],\n",
      "\n",
      "         ...,\n",
      "\n",
      "         [[-5.2600e-03, -4.9884e-03, -6.6876e-02, -9.8058e-02, -9.9741e-02],\n",
      "          [ 2.5341e-02,  2.6690e-02,  2.5841e-02, -4.0165e-02, -4.4005e-02],\n",
      "          [ 3.2563e-02,  1.2848e-01,  7.0379e-02,  4.2616e-03, -6.7470e-02],\n",
      "          [ 6.0400e-02,  1.1011e-01,  8.5654e-02,  5.0356e-02, -4.2569e-02],\n",
      "          [-5.8542e-03,  8.6712e-02,  5.9308e-02,  4.3083e-02,  2.4297e-02]],\n",
      "\n",
      "         [[-1.2888e-01, -1.0549e-01, -1.0166e-01, -6.8846e-02, -7.1349e-02],\n",
      "          [-1.2011e-03, -1.2977e-02, -1.4359e-01, -7.6529e-02, -1.6891e-02],\n",
      "          [ 5.4162e-02,  6.7730e-02, -7.9743e-02, -7.5883e-02, -6.3025e-02],\n",
      "          [ 1.1931e-01,  3.0451e-02, -4.6638e-02, -4.8783e-02, -8.5391e-02],\n",
      "          [ 4.3037e-02, -3.5920e-02, -5.9551e-02, -1.5545e-02, -6.6009e-02]],\n",
      "\n",
      "         [[-3.3916e-02, -3.0611e-02, -3.5391e-02, -6.7642e-02, -3.1536e-02],\n",
      "          [-5.1644e-02, -1.6663e-02, -1.6913e-02, -1.8335e-02, -1.9925e-02],\n",
      "          [-9.1248e-02, -2.9637e-02, -9.6309e-03, -4.5165e-02, -2.1034e-03],\n",
      "          [-5.6793e-02, -5.4056e-03, -1.7038e-02, -2.6900e-02, -5.4138e-03],\n",
      "          [-3.8856e-02, -4.3507e-02, -3.7160e-02, -7.4095e-02, -4.6501e-02]]],\n",
      "\n",
      "\n",
      "        ...,\n",
      "\n",
      "\n",
      "        [[[-2.6202e-02,  2.6866e-02,  1.6420e-02, -1.9289e-02, -1.0514e-02],\n",
      "          [-8.8548e-02, -6.7676e-02, -8.4837e-02, -7.3085e-02, -9.9526e-02],\n",
      "          [-8.1285e-02, -6.5870e-02, -8.0898e-02, -4.1579e-02, -7.0113e-02],\n",
      "          [-6.8212e-02, -5.7549e-02, -5.8872e-02, -2.7525e-02, -5.2794e-02],\n",
      "          [-1.4187e-01, -1.1013e-01, -6.0574e-02, -1.0153e-01, -4.6179e-02]],\n",
      "\n",
      "         [[ 1.1364e-02, -3.2248e-02,  1.2020e-02, -1.5364e-02, -1.3572e-02],\n",
      "          [-2.1532e-03,  7.8944e-03,  6.9511e-03, -4.6630e-02,  1.7279e-02],\n",
      "          [ 2.5971e-02, -1.8201e-02, -4.5251e-04, -3.5668e-02, -1.5923e-02],\n",
      "          [-2.1580e-02, -5.1565e-03, -1.0936e-02, -8.0966e-03,  2.8734e-02],\n",
      "          [ 3.2582e-02,  4.0976e-02, -6.7250e-03, -3.7044e-02,  6.8350e-03]],\n",
      "\n",
      "         [[-1.1644e-01, -1.2280e-01, -8.7653e-02, -9.3046e-02, -5.1736e-02],\n",
      "          [-1.0883e-01, -1.2798e-01, -6.2397e-02, -9.2184e-02, -9.5357e-02],\n",
      "          [-8.5486e-02, -1.1283e-01, -8.1883e-02, -6.5583e-02, -7.5065e-02],\n",
      "          [-1.0458e-01, -1.4388e-01, -9.1993e-02, -7.0841e-02, -6.9836e-02],\n",
      "          [-9.1530e-02, -8.9796e-02, -4.3674e-02, -7.9813e-02,  2.2914e-02]],\n",
      "\n",
      "         ...,\n",
      "\n",
      "         [[-5.7310e-02,  1.0986e-03, -4.6951e-02, -5.4674e-02, -2.5698e-02],\n",
      "          [-5.1653e-02, -6.1434e-02, -1.7400e-02, -6.3085e-02, -6.2385e-02],\n",
      "          [-1.9693e-02, -1.0483e-01, -1.4795e-02, -2.6206e-02, -5.9806e-02],\n",
      "          [-1.8987e-02, -1.0357e-01,  6.6867e-03, -2.2359e-02, -3.5352e-02],\n",
      "          [-1.3769e-02, -6.2112e-02, -2.7676e-02, -2.9658e-02, -5.7547e-03]],\n",
      "\n",
      "         [[ 3.2310e-02,  5.2809e-05, -2.3850e-02, -8.0288e-03,  6.2997e-03],\n",
      "          [ 9.6803e-03,  3.3685e-02,  6.0829e-03, -2.3417e-02,  2.1088e-02],\n",
      "          [-3.5890e-02,  3.8484e-02,  2.6205e-02, -1.0613e-02,  5.4824e-02],\n",
      "          [ 7.5748e-03,  5.1948e-02,  2.2422e-02, -1.1689e-02, -3.1804e-02],\n",
      "          [-3.0647e-02, -6.5454e-03, -1.1464e-01, -2.0941e-02, -3.2027e-02]],\n",
      "\n",
      "         [[-7.4550e-02, -2.5863e-02, -6.1689e-02, -4.9450e-02, -1.0829e-02],\n",
      "          [-3.3885e-02, -2.7764e-02, -5.3837e-03, -2.8764e-02, -3.0099e-02],\n",
      "          [-2.8258e-02, -1.4178e-02, -9.6737e-03, -3.7018e-03,  4.1483e-03],\n",
      "          [-2.5080e-02, -1.4884e-02, -9.0150e-03, -2.2845e-02,  6.1233e-03],\n",
      "          [ 2.7759e-03, -5.5492e-03, -1.1046e-03, -1.7286e-02, -4.9649e-03]]],\n",
      "\n",
      "\n",
      "        [[[-3.5876e-02,  2.0287e-02,  8.3380e-03, -1.6689e-02, -2.9981e-02],\n",
      "          [ 3.3969e-02, -1.9898e-02, -1.6707e-02, -3.7610e-02, -2.7977e-02],\n",
      "          [ 2.5887e-02, -9.1176e-03, -3.9068e-02, -5.1990e-02,  1.8241e-02],\n",
      "          [-5.3558e-02, -3.7060e-02, -4.6794e-02, -7.0240e-02, -2.7141e-03],\n",
      "          [-7.3761e-02, -6.1639e-02, -2.4728e-02, -5.3541e-02,  4.8590e-02]],\n",
      "\n",
      "         [[-2.6209e-02, -3.3423e-02, -3.9712e-02, -6.9079e-02, -3.1847e-03],\n",
      "          [-3.0993e-02, -1.0508e-02, -2.3972e-02, -2.5713e-02, -4.9387e-02],\n",
      "          [-3.4984e-02, -1.1999e-02, -2.3972e-02, -5.9440e-02, -3.9289e-02],\n",
      "          [-2.7760e-02, -4.7771e-03, -2.3364e-02, -1.8452e-02, -1.9501e-03],\n",
      "          [-1.5437e-02, -1.0839e-02, -5.0034e-03, -2.3938e-02,  2.3481e-03]],\n",
      "\n",
      "         [[-9.5513e-02, -1.1904e-01, -9.7163e-02, -1.1508e-01, -1.2410e-01],\n",
      "          [-1.0095e-01, -1.5137e-01, -1.1099e-01, -1.1755e-01, -1.0624e-01],\n",
      "          [-7.6680e-02, -1.3443e-01, -1.0196e-01, -1.3216e-01, -5.6011e-02],\n",
      "          [-7.0218e-02, -7.9597e-02, -1.2434e-01, -8.6464e-02, -6.1039e-02],\n",
      "          [-6.1432e-02, -3.7859e-02, -7.0933e-02, -5.7013e-02, -3.8153e-02]],\n",
      "\n",
      "         ...,\n",
      "\n",
      "         [[-2.0357e-02, -5.6982e-02, -5.4869e-02, -5.2325e-02, -2.5296e-02],\n",
      "          [ 1.7825e-02, -8.7551e-02, -1.2170e-01, -9.1660e-02, -9.0424e-02],\n",
      "          [ 3.6895e-02, -9.3648e-02, -9.8552e-02, -3.0760e-02, -3.6487e-02],\n",
      "          [ 2.4084e-02, -7.0569e-02, -8.2351e-02, -5.9094e-02, -8.5813e-02],\n",
      "          [ 5.8195e-03, -4.0226e-02, -4.4339e-02, -7.3210e-02,  2.4121e-02]],\n",
      "\n",
      "         [[ 1.5070e-02, -2.5401e-02,  2.3353e-02, -4.0266e-02, -3.4408e-02],\n",
      "          [-6.4030e-02, -6.4061e-02, -2.2813e-02, -6.0123e-02, -1.8786e-02],\n",
      "          [ 1.0027e-01,  4.1901e-02, -1.9477e-02, -6.9309e-02,  8.7260e-02],\n",
      "          [ 1.0624e-01, -3.7069e-03, -5.3091e-03, -6.4590e-02, -7.7900e-03],\n",
      "          [-4.4714e-02,  2.4850e-03, -2.7293e-02,  7.7884e-04,  9.7393e-03]],\n",
      "\n",
      "         [[-7.4986e-02, -9.9152e-02, -4.8494e-02, -3.8017e-02,  1.3083e-02],\n",
      "          [-1.0031e-01, -3.0322e-02, -6.9160e-02, -5.2460e-02, -1.5951e-02],\n",
      "          [-2.9583e-02, -1.0729e-02, -2.3256e-02, -1.6270e-02,  5.8117e-02],\n",
      "          [-3.8696e-03, -2.6151e-03,  9.1820e-03, -6.8410e-03, -4.1538e-03],\n",
      "          [ 8.0560e-03, -1.0367e-03, -1.4894e-02, -3.3886e-03,  1.0391e-02]]],\n",
      "\n",
      "\n",
      "        [[[-2.6075e-03, -3.7085e-02, -4.6479e-03,  2.4563e-02,  1.0260e-02],\n",
      "          [-4.2351e-02, -4.1961e-02, -1.2660e-02,  2.6245e-02,  3.9402e-02],\n",
      "          [-1.8055e-02, -1.5782e-02, -1.7252e-03,  1.7388e-02,  2.5765e-02],\n",
      "          [ 3.2111e-02,  2.9970e-02,  2.3538e-02,  6.2001e-03,  2.9506e-02],\n",
      "          [ 2.6927e-02,  1.2415e-02,  3.4993e-02,  4.9275e-03,  1.3111e-02]],\n",
      "\n",
      "         [[ 1.9609e-02,  9.4626e-03,  3.8976e-02,  3.4452e-02,  5.0632e-03],\n",
      "          [-1.5925e-02,  1.1402e-02,  3.1329e-03,  1.8662e-02, -7.0728e-03],\n",
      "          [ 2.1106e-02, -5.3728e-03,  1.9091e-02,  1.9579e-03,  6.3575e-03],\n",
      "          [ 2.2001e-02,  8.1069e-03,  2.5960e-02,  8.5684e-03,  2.6124e-02],\n",
      "          [-1.1781e-02,  2.7430e-02,  3.3744e-02,  3.8243e-02, -2.4525e-03]],\n",
      "\n",
      "         [[-2.3490e-03, -3.3918e-02, -7.0430e-03,  1.5101e-02,  3.6207e-02],\n",
      "          [-1.6533e-02, -1.6884e-04,  2.1033e-02,  4.2128e-02,  3.9074e-02],\n",
      "          [-1.3707e-02,  2.2905e-03,  3.9733e-02,  1.5717e-02,  9.6463e-03],\n",
      "          [ 2.9310e-02,  4.0972e-02,  2.7939e-02,  5.5390e-02,  1.3874e-02],\n",
      "          [ 1.8387e-02,  3.2860e-02,  5.1914e-02,  4.4928e-02,  7.4201e-04]],\n",
      "\n",
      "         ...,\n",
      "\n",
      "         [[-2.2576e-02, -3.0260e-02, -1.1989e-03,  3.4264e-02,  4.6122e-02],\n",
      "          [-4.2312e-02, -7.6223e-03,  2.5799e-02,  1.4581e-02,  3.2565e-02],\n",
      "          [ 5.3314e-04,  1.4127e-02,  9.7474e-03,  3.6426e-02,  4.4738e-02],\n",
      "          [ 4.6935e-03,  4.5103e-02,  4.2185e-02,  5.3903e-02,  4.9238e-02],\n",
      "          [ 1.1100e-02,  3.6735e-02,  2.7354e-02,  2.6423e-02,  3.1273e-02]],\n",
      "\n",
      "         [[-2.3105e-02,  4.8241e-02,  5.6854e-02,  3.4822e-03,  3.1019e-02],\n",
      "          [ 9.9498e-03,  5.4632e-02,  5.4242e-02,  2.4801e-02, -1.4346e-02],\n",
      "          [ 4.1834e-02,  1.4050e-02,  5.0579e-02,  2.0263e-02, -2.9965e-02],\n",
      "          [ 2.2236e-02,  1.5008e-02,  6.5566e-03, -2.8505e-02, -2.5523e-02],\n",
      "          [ 2.0428e-02,  3.6955e-02, -3.0589e-05,  2.4490e-02, -1.8578e-02]],\n",
      "\n",
      "         [[ 6.7761e-03, -1.6534e-02,  1.9468e-05, -7.3911e-04, -4.5640e-04],\n",
      "          [-4.4575e-02, -2.6192e-02,  3.6492e-02,  1.1807e-02,  3.2253e-02],\n",
      "          [-4.2564e-02,  8.0069e-03,  3.1797e-02,  1.1157e-02,  2.0691e-02],\n",
      "          [-9.7614e-03,  2.9031e-04,  1.5143e-02,  4.2370e-02,  5.3545e-02],\n"
     ]
    },
    {
     "name": "stdout",
     "output_type": "stream",
     "text": [
      "          [-3.6204e-02,  2.2491e-02,  4.6044e-02,  2.5093e-02,  3.5940e-02]]]], device='cuda:0')\n"
     ]
    }
   ],
   "source": [
    "for m in model.modules():\n",
    "    if isinstance(m, torch.nn.Conv2d):\n",
    "        print(m.weight.data)"
   ]
  },
  {
   "cell_type": "code",
   "execution_count": 14,
   "metadata": {},
   "outputs": [],
   "source": [
    "test = fits.open(\"E:/Documents/Python_Scripts/CNN/TRAINING/EXAMPLES/RefL0025N0376,28,12,0,296111.fits\")"
   ]
  },
  {
   "cell_type": "code",
   "execution_count": 16,
   "metadata": {},
   "outputs": [
    {
     "name": "stdout",
     "output_type": "stream",
     "text": [
      "Filename: E:/Documents/Python_Scripts/CNN/TRAINING/EXAMPLES/RefL0025N0376,28,12,0,296111.fits\n",
      "No.    Name      Ver    Type      Cards   Dimensions   Format\n",
      "  0  PRIMARY       1 PrimaryHDU      14   ()      \n",
      "  1                1 ImageHDU         8   (64, 64, 640)   float64   \n",
      "TRUE LABEL= 5\n"
     ]
    },
    {
     "data": {
      "image/png": "[encoded data removed]",
      "text/plain": [
       "<matplotlib.figure.Figure at 0x2afcc9fe470>"
      ]
     },
     "metadata": {},
     "output_type": "display_data"
    }
   ],
   "source": [
    "test.info()\n",
    "print('TRUE LABEL=',test[0].header['LABEL'])\n",
    "d = test[1].data[100]\n",
    "d[d != d] = 0\n",
    "plt.figure()\n",
    "plt.imshow(d,cmap='jet')\n",
    "plt.colorbar()\n",
    "plt.show()"
   ]
  },
  {
   "cell_type": "code",
   "execution_count": 17,
   "metadata": {},
   "outputs": [
    {
     "name": "stdout",
     "output_type": "stream",
     "text": [
      "torch.Size([1, 1, 64, 64])\n",
      "[[0.10622309 0.1435124  0.05875074 0.0495275  0.06827779 0.03227602\n",
      "  0.17474921 0.17845923 0.15276037 0.03546367]]\n",
      "TEST LABEL=  7\n"
     ]
    }
   ],
   "source": [
    "transform = transforms.Compose([transforms.ToTensor(), transforms.Normalize([0], [1])])\n",
    "data = transform(d.reshape(*d.shape, 1)).unsqueeze(0).float().cuda()\n",
    "print(data.shape)\n",
    "output = torch.nn.functional.softmax(model(data),dim=1).cpu().detach().numpy()\n",
    "print(output)\n",
    "print('TEST LABEL= ',np.argmax(output))\n",
    "test.close()"
   ]
  },
  {
   "cell_type": "code",
   "execution_count": 19,
   "metadata": {},
   "outputs": [
    {
     "name": "stdout",
     "output_type": "stream",
     "text": [
      "TRUE LABEL= 0\n"
     ]
    },
    {
     "data": {
      "image/png": "[encoded data removed]",
      "text/plain": [
       "<matplotlib.figure.Figure at 0x2afccaa5550>"
      ]
     },
     "metadata": {},
     "output_type": "display_data"
    },
    {
     "name": "stdout",
     "output_type": "stream",
     "text": [
      "[[0.10622309 0.1435124  0.05875074 0.0495275  0.06827779 0.03227602\n",
      "  0.17474921 0.17845923 0.15276037 0.03546367]]\n",
      "7\n"
     ]
    }
   ],
   "source": [
    "test2 = fits.open(\"E:/Documents/Python_Scripts/CNN/TRAINING/EXAMPLES/RefL0100N1504,28,1222,0,9017403.fits\")\n",
    "print('TRUE LABEL=',test2[0].header['LABEL'])\n",
    "d = test2[1].data[100]\n",
    "d[d != d] = 0\n",
    "plt.figure()\n",
    "plt.imshow(d,cmap='jet')\n",
    "plt.colorbar()\n",
    "plt.show()\n",
    "data = torch.from_numpy(d).unsqueeze(0).unsqueeze(0).float().cuda()\n",
    "output = torch.nn.functional.softmax(model(data),dim=1).cpu().detach().numpy()\n",
    "print(output)\n",
    "print(np.argmax(output))"
   ]
  },
  {
   "cell_type": "code",
   "execution_count": null,
   "metadata": {},
   "outputs": [],
   "source": []
  }
 ],
 "metadata": {
  "kernelspec": {
   "display_name": "Python 3",
   "language": "python",
   "name": "python3"
  },
  "language_info": {
   "codemirror_mode": {
    "name": "ipython",
    "version": 3
   },
   "file_extension": ".py",
   "mimetype": "text/x-python",
   "name": "python",
   "nbconvert_exporter": "python",
   "pygments_lexer": "ipython3",
   "version": "3.6.4"
  }
 },
 "nbformat": 4,
 "nbformat_minor": 2
}

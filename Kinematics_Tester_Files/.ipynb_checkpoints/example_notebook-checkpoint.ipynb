{
 "cells": [
  {
   "cell_type": "markdown",
   "metadata": {},
   "source": [
    "### Import all the relevant packages and paths:\n",
    "    \n",
    "Importing * from config loads the paths to the example data, machine learning model, the PCA routine, and the binary classifyer parameter.\n",
    "\n",
    "sauron_colormap is a customised colormap for reducing the region of green in a blue to red colormap so that velocity rotation is a lot easier to see in galaxies. "
   ]
  },
  {
   "cell_type": "code",
   "execution_count": 69,
   "metadata": {},
   "outputs": [],
   "source": [
    "import os\n",
    "import pickle\n",
    "\n",
    "import numpy as np\n",
    "import torch\n",
    "import matplotlib.pyplot as plt\n",
    "import pandas as pd\n",
    "from random import randint\n",
    "from torch.utils.data import DataLoader\n",
    "\n",
    "from config import *\n",
    "from modules import FITSCubeDataset\n",
    "from sauron_colormap import sauron"
   ]
  },
  {
   "cell_type": "markdown",
   "metadata": {},
   "source": [
    "### Load the CAE model and set it to evaluation mode on a cpu device \n",
    "\n",
    "Here we are loading the pre-trained convolutional autoencoder and setting it to use the cpu of whatever device is running this script and also setting it to evaluation mode so that internal paramaters and weights don't update during the model testing.\n",
    "\n",
    "We also  print the different constituent layers of the model as a final step to ensure the model looks like what we expect."
   ]
  },
  {
   "cell_type": "code",
   "execution_count": 8,
   "metadata": {},
   "outputs": [
    {
     "name": "stdout",
     "output_type": "stream",
     "text": [
      "Autoencoder(\n",
      "  (conv1): Conv2d(1, 8, kernel_size=(3, 3), stride=(1, 1), padding=(1, 1))\n",
      "  (conv2): Conv2d(8, 8, kernel_size=(3, 3), stride=(1, 1), padding=(1, 1))\n",
      "  (conv3): Conv2d(8, 16, kernel_size=(3, 3), stride=(1, 1), padding=(1, 1))\n",
      "  (conv4): Conv2d(16, 16, kernel_size=(3, 3), stride=(1, 1), padding=(1, 1))\n",
      "  (lc1): Linear(in_features=4096, out_features=3, bias=True)\n",
      "  (lc2): Linear(in_features=3, out_features=4096, bias=True)\n",
      "  (trans1): ConvTranspose2d(16, 16, kernel_size=(3, 3), stride=(1, 1), padding=(1, 1))\n",
      "  (trans2): ConvTranspose2d(16, 8, kernel_size=(3, 3), stride=(1, 1), padding=(1, 1))\n",
      "  (trans3): ConvTranspose2d(8, 8, kernel_size=(3, 3), stride=(1, 1), padding=(1, 1))\n",
      "  (trans4): ConvTranspose2d(8, 1, kernel_size=(3, 3), stride=(1, 1), padding=(1, 1))\n",
      "  (mp): MaxPool2d(kernel_size=2, stride=2, padding=0, dilation=1, ceil_mode=False)\n",
      "  (up): MaxUnpool2d(kernel_size=(2, 2), stride=(2, 2), padding=(0, 0))\n",
      "  (relu): ReLU()\n",
      ")\n"
     ]
    }
   ],
   "source": [
    "model = torch.load(MODEL_PATH,map_location='cpu').cpu()\n",
    "model.train(False)\n",
    "print(model)"
   ]
  },
  {
   "cell_type": "markdown",
   "metadata": {},
   "source": [
    "### Load the data\n",
    "\n",
    "Now we need to load the data using PyTorch's inbuilt DataLoader. Here we're using a batch size of 64 and 16 workers to increase the load time. "
   ]
  },
  {
   "cell_type": "code",
   "execution_count": 42,
   "metadata": {},
   "outputs": [],
   "source": [
    "test_loader = DataLoader(dataset=FITSCubeDataset(DATA_PATH),\n",
    "                          batch_size=64,num_workers=16,shuffle=True) "
   ]
  },
  {
   "cell_type": "markdown",
   "metadata": {},
   "source": [
    "### Visualising some test data\n",
    "\n",
    "Here we're going to visualise some of the test velocity maps. In order to look at several examples, simply run the cell below a few times in order to randomly index different examples from within the test_loader."
   ]
  },
  {
   "cell_type": "code",
   "execution_count": 96,
   "metadata": {},
   "outputs": [
    {
     "data": {
      "image/png": "[encoded data removed]",
      "text/plain": [
       "<Figure size 432x288 with 2 Axes>"
      ]
     },
     "metadata": {
      "needs_background": "light"
     },
     "output_type": "display_data"
    }
   ],
   "source": [
    "for idx, (batch, names) in enumerate(test_loader):\n",
    "    batch_data = batch\n",
    "random_index = randint(0,batch_data.shape[0]-1)\n",
    "\n",
    "plt.figure()\n",
    "plt.imshow(batch_data[random_index,0,:,:],cmap=sauron)\n",
    "plt.colorbar()\n",
    "plt.show()"
   ]
  },
  {
   "cell_type": "markdown",
   "metadata": {},
   "source": [
    "### Testing phase\n",
    "\n",
    "Pass the loaded images through the CAE model and store the results "
   ]
  },
  {
   "cell_type": "code",
   "execution_count": 11,
   "metadata": {},
   "outputs": [],
   "source": [
    "all_names = []\n",
    "all_features = []\n",
    "\n",
    "for idx, (batch, names) in enumerate(test_loader):\n",
    "    features,ind1,s1,ind2,s2 = model.encoder(batch.float())\n",
    "    all_names.append(names)\n",
    "    all_features.append(features.detach().numpy())\n",
    "    \n",
    "all_features = np.hstack(all_features)\n",
    "all_names = np.hstack(all_names)"
   ]
  },
  {
   "cell_type": "markdown",
   "metadata": {},
   "source": [
    "### Reorientating the encoded data\n",
    "\n",
    "So here we've taken the velocity maps and encoded them into a 3 dimensional latent space. This isn't actually the structure that we're going to draw our results from and we still need to reorientate the data so that we can fold out asymmetries. \n",
    "\n",
    "For this we're going to use a pre-made PCA routine to rotate the 3d latent data. "
   ]
  },
  {
   "cell_type": "code",
   "execution_count": 14,
   "metadata": {},
   "outputs": [],
   "source": [
    "with open(PCA_PATH, 'rb') as file:  \n",
    "    PCA_model = pickle.load(file)\n",
    "    \n",
    "pca_test_data = PCA_model.transform(all_features)"
   ]
  },
  {
   "cell_type": "markdown",
   "metadata": {},
   "source": [
    "### Visualise the encoded data in folded 2D latent space\n",
    "\n",
    "Now we're going to fold the latent space over the first dimension as it is seen to be symmetric when visualising the training data in latent space. \n",
    "\n",
    "Step 1. Folding the data:"
   ]
  },
  {
   "cell_type": "code",
   "execution_count": 15,
   "metadata": {},
   "outputs": [],
   "source": [
    "latent_x = np.sqrt((pca_test_data[:,0]**2)+(pca_test_data[:,1]**2))\n",
    "latent_y = np.abs(pca_test_data[:,2])"
   ]
  },
  {
   "cell_type": "markdown",
   "metadata": {},
   "source": [
    "Step 2. Visualising the data in 2D:"
   ]
  },
  {
   "cell_type": "code",
   "execution_count": 97,
   "metadata": {},
   "outputs": [
    {
     "data": {
      "image/png": "[encoded data removed]",
      "text/plain": [
       "<Figure size 432x288 with 1 Axes>"
      ]
     },
     "metadata": {
      "needs_background": "light"
     },
     "output_type": "display_data"
    }
   ],
   "source": [
    "plt.figure()\n",
    "plt.scatter(latent_x,latent_y,c='r',marker='o',s=20)\n",
    "plt.xlabel(r'Latent $\\sqrt{x^{2} + y^{2}}$')\n",
    "plt.ylabel(r'Latent $|z|$')\n",
    "plt.show()"
   ]
  },
  {
   "cell_type": "markdown",
   "metadata": {},
   "source": [
    "### Get a circularity prediction from the 2D latent positions\n",
    "\n",
    "Finally we want to get a prediction of circularity for each galaxy based on their positions in the folded 2D latent space. To do this we use the BOUNDARY value imported from the config file."
   ]
  },
  {
   "cell_type": "code",
   "execution_count": 23,
   "metadata": {},
   "outputs": [],
   "source": [
    "classifications = np.ones(len(latent_x))\n",
    "zero_indices = np.where(latent_x<BOUNDARY)[0]\n",
    "classifications[zero_indices] = 0"
   ]
  },
  {
   "cell_type": "markdown",
   "metadata": {},
   "source": [
    "### Visualise the results\n",
    "\n",
    "We can visualise the classifications again using a figure and highlighting the areas of high and low circularity. In the resulting figure we can see the region of high circularity galaxies indicated in green, with the region of low circularity shown in red. For illustration purposes, we can also change the marker shape to help see which galaxies lie in which region close to the boundary line."
   ]
  },
  {
   "cell_type": "code",
   "execution_count": 98,
   "metadata": {},
   "outputs": [
    {
     "data": {
      "image/png": "[encoded data removed]",
      "text/plain": [
       "<Figure size 432x288 with 1 Axes>"
      ]
     },
     "metadata": {
      "needs_background": "light"
     },
     "output_type": "display_data"
    }
   ],
   "source": [
    "low = np.where(classifications==0)[0]\n",
    "high = np.where(classifications==1)[0]\n",
    "\n",
    "fig, ax = plt.figure(), plt.subplot(111)\n",
    "plt.scatter(latent_x[low],latent_y[low],c='r',marker='^',s=20)\n",
    "plt.scatter(latent_x[high],latent_y[high],c='r',marker='o',s=20)\n",
    "plt.vlines(BOUNDARY,0,4,linestyles='--',colors='grey')\n",
    "ax.axvspan(BOUNDARY, 20, alpha=0.2, color='green')\n",
    "ax.axvspan(0, BOUNDARY, alpha=0.2, color='blue')\n",
    "plt.xlabel(r'Latent $\\sqrt{x^{2} + y^{2}}$')\n",
    "plt.ylabel(r'Latent $|z|$'); plt.xlim(0,20)\n",
    "plt.ylim(0,4)\n",
    "plt.show()"
   ]
  },
  {
   "cell_type": "markdown",
   "metadata": {},
   "source": [
    "### Optional - saving the 3D latent positions and classifications \n",
    "\n",
    "Here we provide the code for quickly saving the data to a pickled pandas DataFrame. "
   ]
  },
  {
   "cell_type": "code",
   "execution_count": 41,
   "metadata": {},
   "outputs": [],
   "source": [
    "df_data = np.vstack([all_names,all_features.T,classifications]).T\n",
    "results = pd.DataFrame(df_data)\n",
    "results.columns = ['Name','L1','L2','L3','Circularity']\n",
    "results.set_index(keys='Name',drop=True,inplace=True)\n",
    "results.to_pickle(os.path.join(SAVE_PATH,'CAE_results.pkl'))"
   ]
  }
 ],
 "metadata": {
  "kernelspec": {
   "display_name": "Python 3",
   "language": "python",
   "name": "python3"
  },
  "language_info": {
   "codemirror_mode": {
    "name": "ipython",
    "version": 3
   },
   "file_extension": ".py",
   "mimetype": "text/x-python",
   "name": "python",
   "nbconvert_exporter": "python",
   "pygments_lexer": "ipython3",
   "version": "3.7.3"
  }
 },
 "nbformat": 4,
 "nbformat_minor": 2
}
